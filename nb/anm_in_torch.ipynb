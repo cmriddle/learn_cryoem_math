{
  "nbformat": 4,
  "nbformat_minor": 0,
  "metadata": {
    "colab": {
      "name": "anm_in_torch.ipynb",
      "provenance": [],
      "collapsed_sections": [],
      "authorship_tag": "ABX9TyNpFpBiphRfmQcrRcXUAV5u",
      "include_colab_link": true
    },
    "kernelspec": {
      "name": "python3",
      "display_name": "Python 3"
    },
    "language_info": {
      "name": "python"
    },
    "accelerator": "GPU"
  },
  "cells": [
    {
      "cell_type": "markdown",
      "metadata": {
        "id": "view-in-github",
        "colab_type": "text"
      },
      "source": [
        "<a href=\"https://colab.research.google.com/github/geoffwoollard/learn_cryoem_math/blob/master/nb/anm_in_torch.ipynb\" target=\"_parent\"><img src=\"https://colab.research.google.com/assets/colab-badge.svg\" alt=\"Open In Colab\"/></a>"
      ]
    },
    {
      "cell_type": "code",
      "source": [
        "!pip install pycuda\n",
        "!pip install scikit-cuda"
      ],
      "metadata": {
        "colab": {
          "base_uri": "https://localhost:8080/"
        },
        "id": "BgbpPownPkuW",
        "outputId": "d20f7282-5b85-43de-ddf7-f18aaf384fbb"
      },
      "execution_count": 2,
      "outputs": [
        {
          "output_type": "stream",
          "name": "stdout",
          "text": [
            "Collecting pycuda\n",
            "  Downloading pycuda-2021.1.tar.gz (1.7 MB)\n",
            "\u001b[?25l\r\u001b[K     |▏                               | 10 kB 24.9 MB/s eta 0:00:01\r\u001b[K     |▍                               | 20 kB 32.5 MB/s eta 0:00:01\r\u001b[K     |▋                               | 30 kB 22.2 MB/s eta 0:00:01\r\u001b[K     |▉                               | 40 kB 12.3 MB/s eta 0:00:01\r\u001b[K     |█                               | 51 kB 10.8 MB/s eta 0:00:01\r\u001b[K     |█▏                              | 61 kB 12.6 MB/s eta 0:00:01\r\u001b[K     |█▍                              | 71 kB 12.6 MB/s eta 0:00:01\r\u001b[K     |█▋                              | 81 kB 12.6 MB/s eta 0:00:01\r\u001b[K     |█▊                              | 92 kB 13.9 MB/s eta 0:00:01\r\u001b[K     |██                              | 102 kB 13.0 MB/s eta 0:00:01\r\u001b[K     |██▏                             | 112 kB 13.0 MB/s eta 0:00:01\r\u001b[K     |██▍                             | 122 kB 13.0 MB/s eta 0:00:01\r\u001b[K     |██▌                             | 133 kB 13.0 MB/s eta 0:00:01\r\u001b[K     |██▊                             | 143 kB 13.0 MB/s eta 0:00:01\r\u001b[K     |███                             | 153 kB 13.0 MB/s eta 0:00:01\r\u001b[K     |███▏                            | 163 kB 13.0 MB/s eta 0:00:01\r\u001b[K     |███▎                            | 174 kB 13.0 MB/s eta 0:00:01\r\u001b[K     |███▌                            | 184 kB 13.0 MB/s eta 0:00:01\r\u001b[K     |███▊                            | 194 kB 13.0 MB/s eta 0:00:01\r\u001b[K     |████                            | 204 kB 13.0 MB/s eta 0:00:01\r\u001b[K     |████                            | 215 kB 13.0 MB/s eta 0:00:01\r\u001b[K     |████▎                           | 225 kB 13.0 MB/s eta 0:00:01\r\u001b[K     |████▌                           | 235 kB 13.0 MB/s eta 0:00:01\r\u001b[K     |████▊                           | 245 kB 13.0 MB/s eta 0:00:01\r\u001b[K     |████▉                           | 256 kB 13.0 MB/s eta 0:00:01\r\u001b[K     |█████                           | 266 kB 13.0 MB/s eta 0:00:01\r\u001b[K     |█████▎                          | 276 kB 13.0 MB/s eta 0:00:01\r\u001b[K     |█████▌                          | 286 kB 13.0 MB/s eta 0:00:01\r\u001b[K     |█████▋                          | 296 kB 13.0 MB/s eta 0:00:01\r\u001b[K     |█████▉                          | 307 kB 13.0 MB/s eta 0:00:01\r\u001b[K     |██████                          | 317 kB 13.0 MB/s eta 0:00:01\r\u001b[K     |██████▎                         | 327 kB 13.0 MB/s eta 0:00:01\r\u001b[K     |██████▍                         | 337 kB 13.0 MB/s eta 0:00:01\r\u001b[K     |██████▋                         | 348 kB 13.0 MB/s eta 0:00:01\r\u001b[K     |██████▉                         | 358 kB 13.0 MB/s eta 0:00:01\r\u001b[K     |███████                         | 368 kB 13.0 MB/s eta 0:00:01\r\u001b[K     |███████▏                        | 378 kB 13.0 MB/s eta 0:00:01\r\u001b[K     |███████▍                        | 389 kB 13.0 MB/s eta 0:00:01\r\u001b[K     |███████▋                        | 399 kB 13.0 MB/s eta 0:00:01\r\u001b[K     |███████▉                        | 409 kB 13.0 MB/s eta 0:00:01\r\u001b[K     |████████                        | 419 kB 13.0 MB/s eta 0:00:01\r\u001b[K     |████████▏                       | 430 kB 13.0 MB/s eta 0:00:01\r\u001b[K     |████████▍                       | 440 kB 13.0 MB/s eta 0:00:01\r\u001b[K     |████████▋                       | 450 kB 13.0 MB/s eta 0:00:01\r\u001b[K     |████████▊                       | 460 kB 13.0 MB/s eta 0:00:01\r\u001b[K     |█████████                       | 471 kB 13.0 MB/s eta 0:00:01\r\u001b[K     |█████████▏                      | 481 kB 13.0 MB/s eta 0:00:01\r\u001b[K     |█████████▍                      | 491 kB 13.0 MB/s eta 0:00:01\r\u001b[K     |█████████▌                      | 501 kB 13.0 MB/s eta 0:00:01\r\u001b[K     |█████████▊                      | 512 kB 13.0 MB/s eta 0:00:01\r\u001b[K     |██████████                      | 522 kB 13.0 MB/s eta 0:00:01\r\u001b[K     |██████████▏                     | 532 kB 13.0 MB/s eta 0:00:01\r\u001b[K     |██████████▎                     | 542 kB 13.0 MB/s eta 0:00:01\r\u001b[K     |██████████▌                     | 552 kB 13.0 MB/s eta 0:00:01\r\u001b[K     |██████████▊                     | 563 kB 13.0 MB/s eta 0:00:01\r\u001b[K     |███████████                     | 573 kB 13.0 MB/s eta 0:00:01\r\u001b[K     |███████████                     | 583 kB 13.0 MB/s eta 0:00:01\r\u001b[K     |███████████▎                    | 593 kB 13.0 MB/s eta 0:00:01\r\u001b[K     |███████████▌                    | 604 kB 13.0 MB/s eta 0:00:01\r\u001b[K     |███████████▊                    | 614 kB 13.0 MB/s eta 0:00:01\r\u001b[K     |███████████▉                    | 624 kB 13.0 MB/s eta 0:00:01\r\u001b[K     |████████████                    | 634 kB 13.0 MB/s eta 0:00:01\r\u001b[K     |████████████▎                   | 645 kB 13.0 MB/s eta 0:00:01\r\u001b[K     |████████████▌                   | 655 kB 13.0 MB/s eta 0:00:01\r\u001b[K     |████████████▋                   | 665 kB 13.0 MB/s eta 0:00:01\r\u001b[K     |████████████▉                   | 675 kB 13.0 MB/s eta 0:00:01\r\u001b[K     |█████████████                   | 686 kB 13.0 MB/s eta 0:00:01\r\u001b[K     |█████████████▎                  | 696 kB 13.0 MB/s eta 0:00:01\r\u001b[K     |█████████████▍                  | 706 kB 13.0 MB/s eta 0:00:01\r\u001b[K     |█████████████▋                  | 716 kB 13.0 MB/s eta 0:00:01\r\u001b[K     |█████████████▉                  | 727 kB 13.0 MB/s eta 0:00:01\r\u001b[K     |██████████████                  | 737 kB 13.0 MB/s eta 0:00:01\r\u001b[K     |██████████████▏                 | 747 kB 13.0 MB/s eta 0:00:01\r\u001b[K     |██████████████▍                 | 757 kB 13.0 MB/s eta 0:00:01\r\u001b[K     |██████████████▋                 | 768 kB 13.0 MB/s eta 0:00:01\r\u001b[K     |██████████████▉                 | 778 kB 13.0 MB/s eta 0:00:01\r\u001b[K     |███████████████                 | 788 kB 13.0 MB/s eta 0:00:01\r\u001b[K     |███████████████▏                | 798 kB 13.0 MB/s eta 0:00:01\r\u001b[K     |███████████████▍                | 808 kB 13.0 MB/s eta 0:00:01\r\u001b[K     |███████████████▋                | 819 kB 13.0 MB/s eta 0:00:01\r\u001b[K     |███████████████▊                | 829 kB 13.0 MB/s eta 0:00:01\r\u001b[K     |████████████████                | 839 kB 13.0 MB/s eta 0:00:01\r\u001b[K     |████████████████▏               | 849 kB 13.0 MB/s eta 0:00:01\r\u001b[K     |████████████████▍               | 860 kB 13.0 MB/s eta 0:00:01\r\u001b[K     |████████████████▌               | 870 kB 13.0 MB/s eta 0:00:01\r\u001b[K     |████████████████▊               | 880 kB 13.0 MB/s eta 0:00:01\r\u001b[K     |█████████████████               | 890 kB 13.0 MB/s eta 0:00:01\r\u001b[K     |█████████████████▏              | 901 kB 13.0 MB/s eta 0:00:01\r\u001b[K     |█████████████████▍              | 911 kB 13.0 MB/s eta 0:00:01\r\u001b[K     |█████████████████▌              | 921 kB 13.0 MB/s eta 0:00:01\r\u001b[K     |█████████████████▊              | 931 kB 13.0 MB/s eta 0:00:01\r\u001b[K     |██████████████████              | 942 kB 13.0 MB/s eta 0:00:01\r\u001b[K     |██████████████████▏             | 952 kB 13.0 MB/s eta 0:00:01\r\u001b[K     |██████████████████▎             | 962 kB 13.0 MB/s eta 0:00:01\r\u001b[K     |██████████████████▌             | 972 kB 13.0 MB/s eta 0:00:01\r\u001b[K     |██████████████████▊             | 983 kB 13.0 MB/s eta 0:00:01\r\u001b[K     |███████████████████             | 993 kB 13.0 MB/s eta 0:00:01\r\u001b[K     |███████████████████             | 1.0 MB 13.0 MB/s eta 0:00:01\r\u001b[K     |███████████████████▎            | 1.0 MB 13.0 MB/s eta 0:00:01\r\u001b[K     |███████████████████▌            | 1.0 MB 13.0 MB/s eta 0:00:01\r\u001b[K     |███████████████████▊            | 1.0 MB 13.0 MB/s eta 0:00:01\r\u001b[K     |███████████████████▉            | 1.0 MB 13.0 MB/s eta 0:00:01\r\u001b[K     |████████████████████            | 1.1 MB 13.0 MB/s eta 0:00:01\r\u001b[K     |████████████████████▎           | 1.1 MB 13.0 MB/s eta 0:00:01\r\u001b[K     |████████████████████▌           | 1.1 MB 13.0 MB/s eta 0:00:01\r\u001b[K     |████████████████████▋           | 1.1 MB 13.0 MB/s eta 0:00:01\r\u001b[K     |████████████████████▉           | 1.1 MB 13.0 MB/s eta 0:00:01\r\u001b[K     |█████████████████████           | 1.1 MB 13.0 MB/s eta 0:00:01\r\u001b[K     |█████████████████████▎          | 1.1 MB 13.0 MB/s eta 0:00:01\r\u001b[K     |█████████████████████▍          | 1.1 MB 13.0 MB/s eta 0:00:01\r\u001b[K     |█████████████████████▋          | 1.1 MB 13.0 MB/s eta 0:00:01\r\u001b[K     |█████████████████████▉          | 1.1 MB 13.0 MB/s eta 0:00:01\r\u001b[K     |██████████████████████          | 1.2 MB 13.0 MB/s eta 0:00:01\r\u001b[K     |██████████████████████▏         | 1.2 MB 13.0 MB/s eta 0:00:01\r\u001b[K     |██████████████████████▍         | 1.2 MB 13.0 MB/s eta 0:00:01\r\u001b[K     |██████████████████████▋         | 1.2 MB 13.0 MB/s eta 0:00:01\r\u001b[K     |██████████████████████▉         | 1.2 MB 13.0 MB/s eta 0:00:01\r\u001b[K     |███████████████████████         | 1.2 MB 13.0 MB/s eta 0:00:01\r\u001b[K     |███████████████████████▏        | 1.2 MB 13.0 MB/s eta 0:00:01\r\u001b[K     |███████████████████████▍        | 1.2 MB 13.0 MB/s eta 0:00:01\r\u001b[K     |███████████████████████▋        | 1.2 MB 13.0 MB/s eta 0:00:01\r\u001b[K     |███████████████████████▊        | 1.2 MB 13.0 MB/s eta 0:00:01\r\u001b[K     |████████████████████████        | 1.3 MB 13.0 MB/s eta 0:00:01\r\u001b[K     |████████████████████████▏       | 1.3 MB 13.0 MB/s eta 0:00:01\r\u001b[K     |████████████████████████▍       | 1.3 MB 13.0 MB/s eta 0:00:01\r\u001b[K     |████████████████████████▌       | 1.3 MB 13.0 MB/s eta 0:00:01\r\u001b[K     |████████████████████████▊       | 1.3 MB 13.0 MB/s eta 0:00:01\r\u001b[K     |█████████████████████████       | 1.3 MB 13.0 MB/s eta 0:00:01\r\u001b[K     |█████████████████████████▏      | 1.3 MB 13.0 MB/s eta 0:00:01\r\u001b[K     |█████████████████████████▎      | 1.3 MB 13.0 MB/s eta 0:00:01\r\u001b[K     |█████████████████████████▌      | 1.3 MB 13.0 MB/s eta 0:00:01\r\u001b[K     |█████████████████████████▊      | 1.4 MB 13.0 MB/s eta 0:00:01\r\u001b[K     |██████████████████████████      | 1.4 MB 13.0 MB/s eta 0:00:01\r\u001b[K     |██████████████████████████      | 1.4 MB 13.0 MB/s eta 0:00:01\r\u001b[K     |██████████████████████████▎     | 1.4 MB 13.0 MB/s eta 0:00:01\r\u001b[K     |██████████████████████████▌     | 1.4 MB 13.0 MB/s eta 0:00:01\r\u001b[K     |██████████████████████████▊     | 1.4 MB 13.0 MB/s eta 0:00:01\r\u001b[K     |██████████████████████████▉     | 1.4 MB 13.0 MB/s eta 0:00:01\r\u001b[K     |███████████████████████████     | 1.4 MB 13.0 MB/s eta 0:00:01\r\u001b[K     |███████████████████████████▎    | 1.4 MB 13.0 MB/s eta 0:00:01\r\u001b[K     |███████████████████████████▌    | 1.4 MB 13.0 MB/s eta 0:00:01\r\u001b[K     |███████████████████████████▋    | 1.5 MB 13.0 MB/s eta 0:00:01\r\u001b[K     |███████████████████████████▉    | 1.5 MB 13.0 MB/s eta 0:00:01\r\u001b[K     |████████████████████████████    | 1.5 MB 13.0 MB/s eta 0:00:01\r\u001b[K     |████████████████████████████▎   | 1.5 MB 13.0 MB/s eta 0:00:01\r\u001b[K     |████████████████████████████▍   | 1.5 MB 13.0 MB/s eta 0:00:01\r\u001b[K     |████████████████████████████▋   | 1.5 MB 13.0 MB/s eta 0:00:01\r\u001b[K     |████████████████████████████▉   | 1.5 MB 13.0 MB/s eta 0:00:01\r\u001b[K     |█████████████████████████████   | 1.5 MB 13.0 MB/s eta 0:00:01\r\u001b[K     |█████████████████████████████▏  | 1.5 MB 13.0 MB/s eta 0:00:01\r\u001b[K     |█████████████████████████████▍  | 1.5 MB 13.0 MB/s eta 0:00:01\r\u001b[K     |█████████████████████████████▋  | 1.6 MB 13.0 MB/s eta 0:00:01\r\u001b[K     |█████████████████████████████▉  | 1.6 MB 13.0 MB/s eta 0:00:01\r\u001b[K     |██████████████████████████████  | 1.6 MB 13.0 MB/s eta 0:00:01\r\u001b[K     |██████████████████████████████▏ | 1.6 MB 13.0 MB/s eta 0:00:01\r\u001b[K     |██████████████████████████████▍ | 1.6 MB 13.0 MB/s eta 0:00:01\r\u001b[K     |██████████████████████████████▋ | 1.6 MB 13.0 MB/s eta 0:00:01\r\u001b[K     |██████████████████████████████▊ | 1.6 MB 13.0 MB/s eta 0:00:01\r\u001b[K     |███████████████████████████████ | 1.6 MB 13.0 MB/s eta 0:00:01\r\u001b[K     |███████████████████████████████▏| 1.6 MB 13.0 MB/s eta 0:00:01\r\u001b[K     |███████████████████████████████▍| 1.6 MB 13.0 MB/s eta 0:00:01\r\u001b[K     |███████████████████████████████▌| 1.7 MB 13.0 MB/s eta 0:00:01\r\u001b[K     |███████████████████████████████▊| 1.7 MB 13.0 MB/s eta 0:00:01\r\u001b[K     |████████████████████████████████| 1.7 MB 13.0 MB/s eta 0:00:01\r\u001b[K     |████████████████████████████████| 1.7 MB 13.0 MB/s \n",
            "\u001b[?25h  Installing build dependencies ... \u001b[?25l\u001b[?25hdone\n",
            "  Getting requirements to build wheel ... \u001b[?25l\u001b[?25hdone\n",
            "    Preparing wheel metadata ... \u001b[?25l\u001b[?25hdone\n",
            "Collecting mako\n",
            "  Downloading Mako-1.2.0-py3-none-any.whl (78 kB)\n",
            "\u001b[K     |████████████████████████████████| 78 kB 8.9 MB/s \n",
            "\u001b[?25hCollecting pytools>=2011.2\n",
            "  Downloading pytools-2022.1.7.tar.gz (69 kB)\n",
            "\u001b[K     |████████████████████████████████| 69 kB 9.0 MB/s \n",
            "\u001b[?25hRequirement already satisfied: appdirs>=1.4.0 in /usr/local/lib/python3.7/dist-packages (from pycuda) (1.4.4)\n",
            "Collecting platformdirs>=2.2.0\n",
            "  Downloading platformdirs-2.5.2-py3-none-any.whl (14 kB)\n",
            "Requirement already satisfied: numpy>=1.6.0 in /usr/local/lib/python3.7/dist-packages (from pytools>=2011.2->pycuda) (1.21.6)\n",
            "Requirement already satisfied: typing_extensions>=4.0 in /usr/local/lib/python3.7/dist-packages (from pytools>=2011.2->pycuda) (4.2.0)\n",
            "Requirement already satisfied: importlib-metadata in /usr/local/lib/python3.7/dist-packages (from mako->pycuda) (4.11.3)\n",
            "Requirement already satisfied: MarkupSafe>=0.9.2 in /usr/local/lib/python3.7/dist-packages (from mako->pycuda) (2.0.1)\n",
            "Requirement already satisfied: zipp>=0.5 in /usr/local/lib/python3.7/dist-packages (from importlib-metadata->mako->pycuda) (3.8.0)\n",
            "Building wheels for collected packages: pycuda, pytools\n",
            "  Building wheel for pycuda (PEP 517) ... \u001b[?25l\u001b[?25hdone\n",
            "  Created wheel for pycuda: filename=pycuda-2021.1-cp37-cp37m-linux_x86_64.whl size=626634 sha256=c3b7ec6455cf2fc8e516bfb155df8be24c3b57052e86f1c8400810013c98def8\n",
            "  Stored in directory: /root/.cache/pip/wheels/c4/ef/49/dc6a5feb8d980b37c83d465ecab24949a6aa19458522a9e001\n",
            "  Building wheel for pytools (setup.py) ... \u001b[?25l\u001b[?25hdone\n",
            "  Created wheel for pytools: filename=pytools-2022.1.7-py2.py3-none-any.whl size=64772 sha256=a67e16027f1fa92e129441244ee230c2f499cf87e33704049166899283b8bbe3\n",
            "  Stored in directory: /root/.cache/pip/wheels/24/c3/8d/9b093180175460a5fc613220b26027ae97cecbbf94fd3822af\n",
            "Successfully built pycuda pytools\n",
            "Installing collected packages: platformdirs, pytools, mako, pycuda\n",
            "Successfully installed mako-1.2.0 platformdirs-2.5.2 pycuda-2021.1 pytools-2022.1.7\n",
            "Collecting scikit-cuda\n",
            "  Downloading scikit_cuda-0.5.3-py2.py3-none-any.whl (114 kB)\n",
            "\u001b[K     |████████████████████████████████| 114 kB 14.7 MB/s \n",
            "\u001b[?25hRequirement already satisfied: mako>=1.0.1 in /usr/local/lib/python3.7/dist-packages (from scikit-cuda) (1.2.0)\n",
            "Requirement already satisfied: pycuda>=2016.1 in /usr/local/lib/python3.7/dist-packages (from scikit-cuda) (2021.1)\n",
            "Requirement already satisfied: numpy>=1.2.0 in /usr/local/lib/python3.7/dist-packages (from scikit-cuda) (1.21.6)\n",
            "Requirement already satisfied: MarkupSafe>=0.9.2 in /usr/local/lib/python3.7/dist-packages (from mako>=1.0.1->scikit-cuda) (2.0.1)\n",
            "Requirement already satisfied: importlib-metadata in /usr/local/lib/python3.7/dist-packages (from mako>=1.0.1->scikit-cuda) (4.11.3)\n",
            "Requirement already satisfied: pytools>=2011.2 in /usr/local/lib/python3.7/dist-packages (from pycuda>=2016.1->scikit-cuda) (2022.1.7)\n",
            "Requirement already satisfied: appdirs>=1.4.0 in /usr/local/lib/python3.7/dist-packages (from pycuda>=2016.1->scikit-cuda) (1.4.4)\n",
            "Requirement already satisfied: typing-extensions>=4.0 in /usr/local/lib/python3.7/dist-packages (from pytools>=2011.2->pycuda>=2016.1->scikit-cuda) (4.2.0)\n",
            "Requirement already satisfied: platformdirs>=2.2.0 in /usr/local/lib/python3.7/dist-packages (from pytools>=2011.2->pycuda>=2016.1->scikit-cuda) (2.5.2)\n",
            "Requirement already satisfied: zipp>=0.5 in /usr/local/lib/python3.7/dist-packages (from importlib-metadata->mako>=1.0.1->scikit-cuda) (3.8.0)\n",
            "Installing collected packages: scikit-cuda\n",
            "Successfully installed scikit-cuda-0.5.3\n"
          ]
        }
      ]
    },
    {
      "cell_type": "code",
      "execution_count": 3,
      "metadata": {
        "colab": {
          "base_uri": "https://localhost:8080/"
        },
        "id": "-dYyr3pO_NPZ",
        "outputId": "f4aa4b4e-3f60-4fdc-e255-8cc3492abb5f"
      },
      "outputs": [
        {
          "output_type": "stream",
          "name": "stderr",
          "text": [
            "/usr/local/lib/python3.7/dist-packages/skcuda/cublas.py:284: UserWarning: creating CUBLAS context to get version number\n",
            "  warnings.warn('creating CUBLAS context to get version number')\n"
          ]
        }
      ],
      "source": [
        "import torch\n",
        "from torch import tensor\n",
        "import numpy as np\n",
        "\n",
        "import pycuda.gpuarray as gpuarray\n",
        "import pycuda.autoinit\n",
        "from skcuda import linalg\n",
        "linalg.init()"
      ]
    },
    {
      "cell_type": "code",
      "source": [
        "def hess_to_eig_gpu(hess,nmodes=3, shift=5):\n",
        "    \"\"\"\n",
        "    hess, shape: 3*n_nodes, 3*n_nodes\n",
        "    return \n",
        "      vec, shape 3*n_nodes,n_nodes\n",
        "        first mode (column) is most dominant\n",
        "    \"\"\"\n",
        "    assert max(hess.shape) < 50000, 'RAM maxes out ~ 20000'\n",
        "    hess = np.array(hess, np.float32, order='F')\n",
        "    hess_gpu = gpuarray.to_gpu(hess)\n",
        "    vec_gpu, val_gpu = linalg.eig(hess_gpu, 'N', 'V')\n",
        "    vec,val = vec_gpu.get().T, val_gpu.get()\n",
        "    vec = vec[:,shift:shift+nmodes]\n",
        "    val = val[shift:shift+nmodes]\n",
        "    return vec,val"
      ],
      "metadata": {
        "id": "Jd2xeVXqPmff"
      },
      "execution_count": 90,
      "outputs": []
    },
    {
      "cell_type": "code",
      "source": [
        "def hess_to_eig_torch(hess,nmodes=3, shift=5):\n",
        "    \"\"\"\n",
        "    hess, shape: 3*n_nodes, 3*n_nodes\n",
        "    return \n",
        "      vec, shape 3*n_nodes,n_nodes\n",
        "        first mode (column) is most dominant\n",
        "    \"\"\"\n",
        "    val_gpu, vec_gpu = torch.linalg.eigh(hess)\n",
        "    vec,val = vec_gpu, val_gpu\n",
        "    vec = vec[:,shift:shift+nmodes]\n",
        "    val = val[shift:shift+nmodes]\n",
        "    return vec,val"
      ],
      "metadata": {
        "id": "FZ8jQxmwRrp8"
      },
      "execution_count": 161,
      "outputs": []
    },
    {
      "cell_type": "code",
      "source": [
        "n=10\n",
        "np.random.seed(0)\n",
        "hess = np.random.normal(np.zeros((n,n)),1)\n",
        "hess = hess + hess.T\n",
        "\n",
        "vec_skcuda, val_skcuda = hess_to_eig_gpu(hess,nmodes=3, shift=5)\n",
        "\n",
        "n=10\n",
        "np.random.seed(0)\n",
        "hess = np.random.normal(np.zeros((n,n)),1)\n",
        "hess = hess + hess.T\n",
        "vec_torch, val_torch = hess_to_eig_torch(tensor(hess),nmodes=3, shift=5)"
      ],
      "metadata": {
        "id": "vHFBG1MPRNpr"
      },
      "execution_count": 143,
      "outputs": []
    },
    {
      "cell_type": "code",
      "source": [
        "np.allclose(val_skcuda,val_torch.numpy())"
      ],
      "metadata": {
        "colab": {
          "base_uri": "https://localhost:8080/"
        },
        "id": "ir16Bf-5UaU9",
        "outputId": "4f6a6be6-8904-4d8f-b5e8-620de1185cdc"
      },
      "execution_count": 162,
      "outputs": [
        {
          "output_type": "execute_result",
          "data": {
            "text/plain": [
              "True"
            ]
          },
          "metadata": {},
          "execution_count": 162
        }
      ]
    },
    {
      "cell_type": "code",
      "source": [
        "np.allclose(vec_skcuda,vec_torch.numpy(),atol=1e-4)"
      ],
      "metadata": {
        "colab": {
          "base_uri": "https://localhost:8080/"
        },
        "id": "PpVXOjWHUiNy",
        "outputId": "f3b2bd5d-0fa2-43a2-abe3-13ad3585451b"
      },
      "execution_count": 163,
      "outputs": [
        {
          "output_type": "execute_result",
          "data": {
            "text/plain": [
              "True"
            ]
          },
          "metadata": {},
          "execution_count": 163
        }
      ]
    }
  ]
}