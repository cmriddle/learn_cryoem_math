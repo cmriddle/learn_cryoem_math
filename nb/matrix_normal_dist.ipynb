{
  "nbformat": 4,
  "nbformat_minor": 0,
  "metadata": {
    "colab": {
      "name": "matrix_normal_dist.ipynb",
      "provenance": [],
      "collapsed_sections": [],
      "authorship_tag": "ABX9TyPUwo3IMqztc4a/km9QT7Mz",
      "include_colab_link": true
    },
    "kernelspec": {
      "name": "python3",
      "display_name": "Python 3"
    },
    "language_info": {
      "name": "python"
    }
  },
  "cells": [
    {
      "cell_type": "markdown",
      "metadata": {
        "id": "view-in-github",
        "colab_type": "text"
      },
      "source": [
        "<a href=\"https://colab.research.google.com/github/geoffwoollard/learn_cryoem_math/blob/master/nb/matrix_normal_dist.ipynb\" target=\"_parent\"><img src=\"https://colab.research.google.com/assets/colab-badge.svg\" alt=\"Open In Colab\"/></a>"
      ]
    },
    {
      "cell_type": "markdown",
      "source": [
        "# Resources\n",
        "* https://en.wikipedia.org/wiki/Matrix_normal_distribution"
      ],
      "metadata": {
        "id": "mbx8Yl8qM_KF"
      }
    },
    {
      "cell_type": "code",
      "execution_count": 3,
      "metadata": {
        "id": "FptUi5yTM6yg"
      },
      "outputs": [],
      "source": [
        "from torch.distributions.multivariate_normal import MultivariateNormal\n",
        "from torch import tensor\n",
        "import torch"
      ]
    },
    {
      "cell_type": "code",
      "source": [
        "n_atoms = 7\n",
        "n_dim=3\n",
        "mv_loc = torch.arange(n_atoms*n_dim).float()\n",
        "mv_cov = torch.eye(n_atoms*n_dim) / 100\n",
        "print('num params for multivariate normal',mv_cov.numel())\n",
        "vec_X = MultivariateNormal(loc=mv_loc, covariance_matrix=mv_cov).sample()\n",
        "X = vec_X.reshape(n_atoms,n_dim)\n",
        "X"
      ],
      "metadata": {
        "colab": {
          "base_uri": "https://localhost:8080/"
        },
        "id": "4za6Xs52h6x6",
        "outputId": "c2bb5383-5fb5-4c55-caef-c2d9e7080f34"
      },
      "execution_count": 30,
      "outputs": [
        {
          "output_type": "stream",
          "name": "stdout",
          "text": [
            "num params for multivariate normal 441\n"
          ]
        },
        {
          "output_type": "execute_result",
          "data": {
            "text/plain": [
              "tensor([[ 0.0581,  0.9140,  2.0999],\n",
              "        [ 3.1545,  4.1079,  4.8652],\n",
              "        [ 6.0338,  7.0903,  8.1340],\n",
              "        [ 9.0598,  9.8948, 11.0099],\n",
              "        [12.0825, 13.0386, 13.8369],\n",
              "        [14.9621, 16.0145, 17.1436],\n",
              "        [18.0411, 19.1078, 19.9615]])"
            ]
          },
          "metadata": {},
          "execution_count": 30
        }
      ]
    },
    {
      "cell_type": "code",
      "source": [
        "U = torch.eye(n_atoms) / 100\n",
        "V = torch.eye(n_dim) \n",
        "mv_cov = torch.kron(V,U) \n",
        "print('num params for multivariate normal',V.numel()+U.numel())\n",
        "vec_X = MultivariateNormal(loc=mv_loc, covariance_matrix=mv_cov).sample()\n",
        "X = vec_X.reshape(n_atoms,n_dim)\n",
        "X"
      ],
      "metadata": {
        "colab": {
          "base_uri": "https://localhost:8080/"
        },
        "id": "jrUdJx-UjQIu",
        "outputId": "c30253d0-4db7-4f31-8880-598a678e1d8a"
      },
      "execution_count": 29,
      "outputs": [
        {
          "output_type": "stream",
          "name": "stdout",
          "text": [
            "num params for multivariate normal 58\n"
          ]
        },
        {
          "output_type": "execute_result",
          "data": {
            "text/plain": [
              "tensor([[ 0.0393,  1.0392,  1.7777],\n",
              "        [ 3.1029,  4.0354,  4.9895],\n",
              "        [ 6.1476,  7.0713,  8.2095],\n",
              "        [ 8.8389,  9.9370, 11.0896],\n",
              "        [11.9661, 13.0252, 13.9508],\n",
              "        [14.9122, 15.9997, 17.0135],\n",
              "        [17.9886, 19.0079, 20.0347]])"
            ]
          },
          "metadata": {},
          "execution_count": 29
        }
      ]
    }
  ]
}