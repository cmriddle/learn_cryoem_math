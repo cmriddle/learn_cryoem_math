{
  "nbformat": 4,
  "nbformat_minor": 0,
  "metadata": {
    "colab": {
      "name": "healpy.ipynb",
      "provenance": [],
      "collapsed_sections": [],
      "authorship_tag": "ABX9TyPWBlse6p/bVLvn+g8JJ+kG",
      "include_colab_link": true
    },
    "kernelspec": {
      "name": "python3",
      "display_name": "Python 3"
    },
    "language_info": {
      "name": "python"
    }
  },
  "cells": [
    {
      "cell_type": "markdown",
      "metadata": {
        "id": "view-in-github",
        "colab_type": "text"
      },
      "source": [
        "<a href=\"https://colab.research.google.com/github/geoffwoollard/learn_cryoem_math/blob/master/nb/healpy.ipynb\" target=\"_parent\"><img src=\"https://colab.research.google.com/assets/colab-badge.svg\" alt=\"Open In Colab\"/></a>"
      ]
    },
    {
      "cell_type": "markdown",
      "source": [
        "# Setup"
      ],
      "metadata": {
        "id": "RoihVTbgg2oV"
      }
    },
    {
      "cell_type": "code",
      "execution_count": 1,
      "metadata": {
        "colab": {
          "base_uri": "https://localhost:8080/"
        },
        "id": "aBmoQZLyghyL",
        "outputId": "05daa700-070b-4bfe-f0a0-d014e66c8672"
      },
      "outputs": [
        {
          "output_type": "stream",
          "name": "stdout",
          "text": [
            "Collecting healpy\n",
            "  Downloading healpy-1.15.2-cp37-cp37m-manylinux_2_17_x86_64.manylinux2014_x86_64.whl (23.6 MB)\n",
            "\u001b[K     |████████████████████████████████| 23.6 MB 18.0 MB/s \n",
            "\u001b[?25hRequirement already satisfied: numpy>=1.13 in /usr/local/lib/python3.7/dist-packages (from healpy) (1.21.5)\n",
            "Requirement already satisfied: matplotlib in /usr/local/lib/python3.7/dist-packages (from healpy) (3.2.2)\n",
            "Requirement already satisfied: astropy in /usr/local/lib/python3.7/dist-packages (from healpy) (4.3.1)\n",
            "Requirement already satisfied: scipy in /usr/local/lib/python3.7/dist-packages (from healpy) (1.4.1)\n",
            "Requirement already satisfied: importlib-metadata in /usr/local/lib/python3.7/dist-packages (from astropy->healpy) (4.11.3)\n",
            "Requirement already satisfied: pyerfa>=1.7.3 in /usr/local/lib/python3.7/dist-packages (from astropy->healpy) (2.0.0.1)\n",
            "Requirement already satisfied: typing-extensions>=3.6.4 in /usr/local/lib/python3.7/dist-packages (from importlib-metadata->astropy->healpy) (3.10.0.2)\n",
            "Requirement already satisfied: zipp>=0.5 in /usr/local/lib/python3.7/dist-packages (from importlib-metadata->astropy->healpy) (3.7.0)\n",
            "Requirement already satisfied: pyparsing!=2.0.4,!=2.1.2,!=2.1.6,>=2.0.1 in /usr/local/lib/python3.7/dist-packages (from matplotlib->healpy) (3.0.7)\n",
            "Requirement already satisfied: python-dateutil>=2.1 in /usr/local/lib/python3.7/dist-packages (from matplotlib->healpy) (2.8.2)\n",
            "Requirement already satisfied: kiwisolver>=1.0.1 in /usr/local/lib/python3.7/dist-packages (from matplotlib->healpy) (1.4.0)\n",
            "Requirement already satisfied: cycler>=0.10 in /usr/local/lib/python3.7/dist-packages (from matplotlib->healpy) (0.11.0)\n",
            "Requirement already satisfied: six>=1.5 in /usr/local/lib/python3.7/dist-packages (from python-dateutil>=2.1->matplotlib->healpy) (1.15.0)\n",
            "Installing collected packages: healpy\n",
            "Successfully installed healpy-1.15.2\n"
          ]
        }
      ],
      "source": [
        "!pip install healpy"
      ]
    },
    {
      "cell_type": "code",
      "source": [
        "!pip install pytorch3d"
      ],
      "metadata": {
        "colab": {
          "base_uri": "https://localhost:8080/",
          "height": 732
        },
        "id": "ZGwM5x_4jAYX",
        "outputId": "ae49fe2a-d9cb-4864-f12e-60614d27e7e3"
      },
      "execution_count": 13,
      "outputs": [
        {
          "output_type": "stream",
          "name": "stdout",
          "text": [
            "Collecting pytorch3d\n",
            "  Downloading pytorch3d-0.3.0-cp37-cp37m-manylinux1_x86_64.whl (30.0 MB)\n",
            "\u001b[K     |████████████████████████████████| 30.0 MB 1.5 MB/s \n",
            "\u001b[?25hCollecting fvcore\n",
            "  Downloading fvcore-0.1.5.post20220305.tar.gz (50 kB)\n",
            "\u001b[K     |████████████████████████████████| 50 kB 5.6 MB/s \n",
            "\u001b[?25hRequirement already satisfied: torchvision>=0.4 in /usr/local/lib/python3.7/dist-packages (from pytorch3d) (0.11.1+cu111)\n",
            "Requirement already satisfied: pillow!=8.3.0,>=5.3.0 in /usr/local/lib/python3.7/dist-packages (from torchvision>=0.4->pytorch3d) (7.1.2)\n",
            "Requirement already satisfied: torch==1.10.0 in /usr/local/lib/python3.7/dist-packages (from torchvision>=0.4->pytorch3d) (1.10.0+cu111)\n",
            "Requirement already satisfied: numpy in /usr/local/lib/python3.7/dist-packages (from torchvision>=0.4->pytorch3d) (1.21.5)\n",
            "Requirement already satisfied: typing-extensions in /usr/local/lib/python3.7/dist-packages (from torch==1.10.0->torchvision>=0.4->pytorch3d) (3.10.0.2)\n",
            "Collecting yacs>=0.1.6\n",
            "  Downloading yacs-0.1.8-py3-none-any.whl (14 kB)\n",
            "Collecting pyyaml>=5.1\n",
            "  Downloading PyYAML-6.0-cp37-cp37m-manylinux_2_5_x86_64.manylinux1_x86_64.manylinux_2_12_x86_64.manylinux2010_x86_64.whl (596 kB)\n",
            "\u001b[K     |████████████████████████████████| 596 kB 51.4 MB/s \n",
            "\u001b[?25hRequirement already satisfied: tqdm in /usr/local/lib/python3.7/dist-packages (from fvcore->pytorch3d) (4.63.0)\n",
            "Requirement already satisfied: termcolor>=1.1 in /usr/local/lib/python3.7/dist-packages (from fvcore->pytorch3d) (1.1.0)\n",
            "Requirement already satisfied: tabulate in /usr/local/lib/python3.7/dist-packages (from fvcore->pytorch3d) (0.8.9)\n",
            "Collecting iopath>=0.1.7\n",
            "  Downloading iopath-0.1.9-py3-none-any.whl (27 kB)\n",
            "Collecting portalocker\n",
            "  Downloading portalocker-2.4.0-py2.py3-none-any.whl (16 kB)\n",
            "Building wheels for collected packages: fvcore\n",
            "  Building wheel for fvcore (setup.py) ... \u001b[?25l\u001b[?25hdone\n",
            "  Created wheel for fvcore: filename=fvcore-0.1.5.post20220305-py3-none-any.whl size=61214 sha256=d8dedac5597b7d9ce3e13959939034d5b80cc923d708cae2dadf4ef90482fe67\n",
            "  Stored in directory: /root/.cache/pip/wheels/b5/b7/6e/43b1693d06fac3633af48db68557513b0a37ab38b0a8b798f9\n",
            "Successfully built fvcore\n",
            "Installing collected packages: pyyaml, portalocker, yacs, iopath, fvcore, pytorch3d\n",
            "  Attempting uninstall: pyyaml\n",
            "    Found existing installation: PyYAML 3.13\n",
            "    Uninstalling PyYAML-3.13:\n",
            "      Successfully uninstalled PyYAML-3.13\n",
            "Successfully installed fvcore-0.1.5.post20220305 iopath-0.1.9 portalocker-2.4.0 pytorch3d-0.3.0 pyyaml-6.0 yacs-0.1.8\n"
          ]
        },
        {
          "output_type": "display_data",
          "data": {
            "application/vnd.colab-display-data+json": {
              "pip_warning": {
                "packages": [
                  "yaml"
                ]
              }
            }
          },
          "metadata": {}
        }
      ]
    },
    {
      "cell_type": "code",
      "source": [
        "import numpy as np\n",
        "import healpy as hp\n",
        "import pytorch3d.transforms\n",
        "import torch\n",
        "from torch import tensor"
      ],
      "metadata": {
        "id": "MI7rItiXg6OD"
      },
      "execution_count": 32,
      "outputs": []
    },
    {
      "cell_type": "markdown",
      "source": [
        "# Resources\n",
        "* https://healpy.readthedocs.io/en/latest/tutorial.html#NSIDE-and-ordering"
      ],
      "metadata": {
        "id": "pV7Gg3avgvDD"
      }
    },
    {
      "cell_type": "markdown",
      "source": [
        "# Eulers (theta, phi) to rotations"
      ],
      "metadata": {
        "id": "JODq7iLviQli"
      }
    },
    {
      "cell_type": "code",
      "source": [
        "NSIDE = 1\n",
        "NPIX = hp.nside2npix(NSIDE)\n",
        "print(NPIX)"
      ],
      "metadata": {
        "colab": {
          "base_uri": "https://localhost:8080/"
        },
        "id": "us2D5gSjiTq-",
        "outputId": "76c53741-f8ea-4515-cfc9-e41d04ab9a8f"
      },
      "execution_count": 17,
      "outputs": [
        {
          "output_type": "stream",
          "name": "stdout",
          "text": [
            "12\n"
          ]
        }
      ]
    },
    {
      "cell_type": "code",
      "source": [
        "theta, phi = hp.pix2ang(nside=NSIDE, ipix=np.arange(NPIX))\n"
      ],
      "metadata": {
        "id": "Cg5I6AvHih_Q"
      },
      "execution_count": 36,
      "outputs": []
    },
    {
      "cell_type": "code",
      "source": [
        "np.rad2deg(theta)"
      ],
      "metadata": {
        "colab": {
          "base_uri": "https://localhost:8080/"
        },
        "id": "2lau6h-ciq3V",
        "outputId": "0097e3a4-7ea4-4006-c863-07c01bbb2c85"
      },
      "execution_count": 37,
      "outputs": [
        {
          "output_type": "execute_result",
          "data": {
            "text/plain": [
              "array([ 48.1896851,  48.1896851,  48.1896851,  48.1896851,  90.       ,\n",
              "        90.       ,  90.       ,  90.       , 131.8103149, 131.8103149,\n",
              "       131.8103149, 131.8103149])"
            ]
          },
          "metadata": {},
          "execution_count": 37
        }
      ]
    },
    {
      "cell_type": "code",
      "source": [
        "np.rad2deg(phi)"
      ],
      "metadata": {
        "colab": {
          "base_uri": "https://localhost:8080/"
        },
        "id": "GI6l_1WviumZ",
        "outputId": "89842bad-6471-4a70-ee39-c28c78959ded"
      },
      "execution_count": 38,
      "outputs": [
        {
          "output_type": "execute_result",
          "data": {
            "text/plain": [
              "array([ 45., 135., 225., 315.,   0.,  90., 180., 270.,  45., 135., 225.,\n",
              "       315.])"
            ]
          },
          "metadata": {},
          "execution_count": 38
        }
      ]
    },
    {
      "cell_type": "code",
      "source": [
        "psi = torch.linspace(0,2*np.pi*(1-1/NPIX) ,steps=NPIX) # arange?\n",
        "n_repeats = 2\n",
        "psi.repeat(1,n_repeats).T"
      ],
      "metadata": {
        "colab": {
          "base_uri": "https://localhost:8080/"
        },
        "id": "1n0s2VlokQ3z",
        "outputId": "2e3c8843-a1ed-4922-a7cc-cf896e6f49ec"
      },
      "execution_count": 68,
      "outputs": [
        {
          "output_type": "execute_result",
          "data": {
            "text/plain": [
              "tensor([[0.0000],\n",
              "        [0.5236],\n",
              "        [1.0472],\n",
              "        [1.5708],\n",
              "        [2.0944],\n",
              "        [2.6180],\n",
              "        [3.1416],\n",
              "        [3.6652],\n",
              "        [4.1888],\n",
              "        [4.7124],\n",
              "        [5.2360],\n",
              "        [5.7596],\n",
              "        [0.0000],\n",
              "        [0.5236],\n",
              "        [1.0472],\n",
              "        [1.5708],\n",
              "        [2.0944],\n",
              "        [2.6180],\n",
              "        [3.1416],\n",
              "        [3.6652],\n",
              "        [4.1888],\n",
              "        [4.7124],\n",
              "        [5.2360],\n",
              "        [5.7596]])"
            ]
          },
          "metadata": {},
          "execution_count": 68
        }
      ]
    },
    {
      "cell_type": "code",
      "source": [
        "euler_angles = torch.vstack([tensor(theta), tensor(phi)]).T\n",
        "euler_angles.repeat(n_repeats,1)\n"
      ],
      "metadata": {
        "colab": {
          "base_uri": "https://localhost:8080/"
        },
        "id": "4yIwS5hyj5o6",
        "outputId": "b3c876b5-92ef-4bf5-c16c-a008456bc27f"
      },
      "execution_count": 69,
      "outputs": [
        {
          "output_type": "execute_result",
          "data": {
            "text/plain": [
              "tensor([[0.8411, 0.7854],\n",
              "        [0.8411, 2.3562],\n",
              "        [0.8411, 3.9270],\n",
              "        [0.8411, 5.4978],\n",
              "        [1.5708, 0.0000],\n",
              "        [1.5708, 1.5708],\n",
              "        [1.5708, 3.1416],\n",
              "        [1.5708, 4.7124],\n",
              "        [2.3005, 0.7854],\n",
              "        [2.3005, 2.3562],\n",
              "        [2.3005, 3.9270],\n",
              "        [2.3005, 5.4978],\n",
              "        [0.8411, 0.7854],\n",
              "        [0.8411, 2.3562],\n",
              "        [0.8411, 3.9270],\n",
              "        [0.8411, 5.4978],\n",
              "        [1.5708, 0.0000],\n",
              "        [1.5708, 1.5708],\n",
              "        [1.5708, 3.1416],\n",
              "        [1.5708, 4.7124],\n",
              "        [2.3005, 0.7854],\n",
              "        [2.3005, 2.3562],\n",
              "        [2.3005, 3.9270],\n",
              "        [2.3005, 5.4978]], dtype=torch.float64)"
            ]
          },
          "metadata": {},
          "execution_count": 69
        }
      ]
    },
    {
      "cell_type": "code",
      "source": [
        "n_repeats = NPIX\n",
        "euler_angles = torch.hstack([euler_angles.repeat(n_repeats,1), psi.repeat(1,n_repeats).T])"
      ],
      "metadata": {
        "id": "F0nar_aEnCrD"
      },
      "execution_count": 71,
      "outputs": []
    },
    {
      "cell_type": "code",
      "source": [
        "rots = pytorch3d.transforms.euler_angles_to_matrix(euler_angles=euler_angles, convention='XYZ')\n",
        "rots.shape"
      ],
      "metadata": {
        "colab": {
          "base_uri": "https://localhost:8080/"
        },
        "id": "59qoH8sUjTRF",
        "outputId": "59986e55-dddb-41e9-d470-36e6ddc4684d"
      },
      "execution_count": 74,
      "outputs": [
        {
          "output_type": "execute_result",
          "data": {
            "text/plain": [
              "torch.Size([144, 3, 3])"
            ]
          },
          "metadata": {},
          "execution_count": 74
        }
      ]
    }
  ]
}