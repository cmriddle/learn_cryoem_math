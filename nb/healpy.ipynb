{
  "nbformat": 4,
  "nbformat_minor": 0,
  "metadata": {
    "colab": {
      "name": "healpy.ipynb",
      "provenance": [],
      "collapsed_sections": [],
      "machine_shape": "hm",
      "authorship_tag": "ABX9TyMeDp8V7Hv1Euvn5LsrcCQM",
      "include_colab_link": true
    },
    "kernelspec": {
      "name": "python3",
      "display_name": "Python 3"
    },
    "language_info": {
      "name": "python"
    }
  },
  "cells": [
    {
      "cell_type": "markdown",
      "metadata": {
        "id": "view-in-github",
        "colab_type": "text"
      },
      "source": [
        "<a href=\"https://colab.research.google.com/github/geoffwoollard/learn_cryoem_math/blob/master/nb/healpy.ipynb\" target=\"_parent\"><img src=\"https://colab.research.google.com/assets/colab-badge.svg\" alt=\"Open In Colab\"/></a>"
      ]
    },
    {
      "cell_type": "markdown",
      "source": [
        "# Setup"
      ],
      "metadata": {
        "id": "RoihVTbgg2oV"
      }
    },
    {
      "cell_type": "code",
      "execution_count": 1,
      "metadata": {
        "colab": {
          "base_uri": "https://localhost:8080/"
        },
        "id": "aBmoQZLyghyL",
        "outputId": "93f92c18-67c7-4e66-e928-ccd8fdf2d33f"
      },
      "outputs": [
        {
          "output_type": "stream",
          "name": "stdout",
          "text": [
            "Requirement already satisfied: healpy in /usr/local/lib/python3.7/dist-packages (1.15.2)\n",
            "Requirement already satisfied: matplotlib in /usr/local/lib/python3.7/dist-packages (from healpy) (3.2.2)\n",
            "Requirement already satisfied: scipy in /usr/local/lib/python3.7/dist-packages (from healpy) (1.4.1)\n",
            "Requirement already satisfied: astropy in /usr/local/lib/python3.7/dist-packages (from healpy) (4.3.1)\n",
            "Requirement already satisfied: numpy>=1.13 in /usr/local/lib/python3.7/dist-packages (from healpy) (1.21.5)\n",
            "Requirement already satisfied: importlib-metadata in /usr/local/lib/python3.7/dist-packages (from astropy->healpy) (4.11.3)\n",
            "Requirement already satisfied: pyerfa>=1.7.3 in /usr/local/lib/python3.7/dist-packages (from astropy->healpy) (2.0.0.1)\n",
            "Requirement already satisfied: zipp>=0.5 in /usr/local/lib/python3.7/dist-packages (from importlib-metadata->astropy->healpy) (3.7.0)\n",
            "Requirement already satisfied: typing-extensions>=3.6.4 in /usr/local/lib/python3.7/dist-packages (from importlib-metadata->astropy->healpy) (3.10.0.2)\n",
            "Requirement already satisfied: cycler>=0.10 in /usr/local/lib/python3.7/dist-packages (from matplotlib->healpy) (0.11.0)\n",
            "Requirement already satisfied: python-dateutil>=2.1 in /usr/local/lib/python3.7/dist-packages (from matplotlib->healpy) (2.8.2)\n",
            "Requirement already satisfied: kiwisolver>=1.0.1 in /usr/local/lib/python3.7/dist-packages (from matplotlib->healpy) (1.4.0)\n",
            "Requirement already satisfied: pyparsing!=2.0.4,!=2.1.2,!=2.1.6,>=2.0.1 in /usr/local/lib/python3.7/dist-packages (from matplotlib->healpy) (3.0.7)\n",
            "Requirement already satisfied: six>=1.5 in /usr/local/lib/python3.7/dist-packages (from python-dateutil>=2.1->matplotlib->healpy) (1.15.0)\n"
          ]
        }
      ],
      "source": [
        "!pip install healpy"
      ]
    },
    {
      "cell_type": "code",
      "source": [
        "!pip install pytorch3d"
      ],
      "metadata": {
        "colab": {
          "base_uri": "https://localhost:8080/"
        },
        "id": "ZGwM5x_4jAYX",
        "outputId": "a3dfb639-e1c2-4deb-acb8-97f4e98bef90"
      },
      "execution_count": 2,
      "outputs": [
        {
          "output_type": "stream",
          "name": "stdout",
          "text": [
            "Requirement already satisfied: pytorch3d in /usr/local/lib/python3.7/dist-packages (0.3.0)\n",
            "Requirement already satisfied: fvcore in /usr/local/lib/python3.7/dist-packages (from pytorch3d) (0.1.5.post20220305)\n",
            "Requirement already satisfied: torchvision>=0.4 in /usr/local/lib/python3.7/dist-packages (from pytorch3d) (0.11.1+cu111)\n",
            "Requirement already satisfied: numpy in /usr/local/lib/python3.7/dist-packages (from torchvision>=0.4->pytorch3d) (1.21.5)\n",
            "Requirement already satisfied: torch==1.10.0 in /usr/local/lib/python3.7/dist-packages (from torchvision>=0.4->pytorch3d) (1.10.0+cu111)\n",
            "Requirement already satisfied: pillow!=8.3.0,>=5.3.0 in /usr/local/lib/python3.7/dist-packages (from torchvision>=0.4->pytorch3d) (7.1.2)\n",
            "Requirement already satisfied: typing-extensions in /usr/local/lib/python3.7/dist-packages (from torch==1.10.0->torchvision>=0.4->pytorch3d) (3.10.0.2)\n",
            "Requirement already satisfied: tqdm in /usr/local/lib/python3.7/dist-packages (from fvcore->pytorch3d) (4.63.0)\n",
            "Requirement already satisfied: termcolor>=1.1 in /usr/local/lib/python3.7/dist-packages (from fvcore->pytorch3d) (1.1.0)\n",
            "Requirement already satisfied: tabulate in /usr/local/lib/python3.7/dist-packages (from fvcore->pytorch3d) (0.8.9)\n",
            "Requirement already satisfied: pyyaml>=5.1 in /usr/local/lib/python3.7/dist-packages (from fvcore->pytorch3d) (6.0)\n",
            "Requirement already satisfied: yacs>=0.1.6 in /usr/local/lib/python3.7/dist-packages (from fvcore->pytorch3d) (0.1.8)\n",
            "Requirement already satisfied: iopath>=0.1.7 in /usr/local/lib/python3.7/dist-packages (from fvcore->pytorch3d) (0.1.9)\n",
            "Requirement already satisfied: portalocker in /usr/local/lib/python3.7/dist-packages (from iopath>=0.1.7->fvcore->pytorch3d) (2.4.0)\n"
          ]
        }
      ]
    },
    {
      "cell_type": "code",
      "source": [
        "import numpy as np\n",
        "import healpy as hp\n",
        "import pytorch3d.transforms\n",
        "import torch\n",
        "from torch import tensor"
      ],
      "metadata": {
        "id": "MI7rItiXg6OD"
      },
      "execution_count": 3,
      "outputs": []
    },
    {
      "cell_type": "markdown",
      "source": [
        "# Resources\n",
        "* https://healpy.readthedocs.io/en/latest/tutorial.html#NSIDE-and-ordering"
      ],
      "metadata": {
        "id": "pV7Gg3avgvDD"
      }
    },
    {
      "cell_type": "markdown",
      "source": [
        "# Eulers (theta, phi) to rotations"
      ],
      "metadata": {
        "id": "JODq7iLviQli"
      }
    },
    {
      "cell_type": "code",
      "source": [
        "NSIDE = 1\n",
        "NPIX = hp.nside2npix(NSIDE)\n",
        "print(NPIX)"
      ],
      "metadata": {
        "colab": {
          "base_uri": "https://localhost:8080/"
        },
        "id": "us2D5gSjiTq-",
        "outputId": "19957e3e-c2db-43ce-8b9f-75b324cc7eb3"
      },
      "execution_count": 4,
      "outputs": [
        {
          "output_type": "stream",
          "name": "stdout",
          "text": [
            "12\n"
          ]
        }
      ]
    },
    {
      "cell_type": "code",
      "source": [
        "theta, phi = hp.pix2ang(nside=NSIDE, ipix=np.arange(NPIX))\n"
      ],
      "metadata": {
        "id": "Cg5I6AvHih_Q"
      },
      "execution_count": 5,
      "outputs": []
    },
    {
      "cell_type": "code",
      "source": [
        "np.rad2deg(theta)"
      ],
      "metadata": {
        "colab": {
          "base_uri": "https://localhost:8080/"
        },
        "id": "2lau6h-ciq3V",
        "outputId": "56076dc1-f3c0-48a2-be4f-7bded4f47926"
      },
      "execution_count": 6,
      "outputs": [
        {
          "output_type": "execute_result",
          "data": {
            "text/plain": [
              "array([ 48.1896851,  48.1896851,  48.1896851,  48.1896851,  90.       ,\n",
              "        90.       ,  90.       ,  90.       , 131.8103149, 131.8103149,\n",
              "       131.8103149, 131.8103149])"
            ]
          },
          "metadata": {},
          "execution_count": 6
        }
      ]
    },
    {
      "cell_type": "code",
      "source": [
        "np.rad2deg(phi)"
      ],
      "metadata": {
        "colab": {
          "base_uri": "https://localhost:8080/"
        },
        "id": "GI6l_1WviumZ",
        "outputId": "878d6df8-40b7-4075-a862-93340f952d23"
      },
      "execution_count": 7,
      "outputs": [
        {
          "output_type": "execute_result",
          "data": {
            "text/plain": [
              "array([ 45., 135., 225., 315.,   0.,  90., 180., 270.,  45., 135., 225.,\n",
              "       315.])"
            ]
          },
          "metadata": {},
          "execution_count": 7
        }
      ]
    },
    {
      "cell_type": "code",
      "source": [
        "psi = torch.linspace(0,2*np.pi*(1-1/NPIX) ,steps=NPIX) # arange?\n",
        "n_repeats = 2\n",
        "psi.repeat(1,n_repeats).T"
      ],
      "metadata": {
        "colab": {
          "base_uri": "https://localhost:8080/"
        },
        "id": "1n0s2VlokQ3z",
        "outputId": "6b8bdc3b-3ba0-4114-ef4c-81681ca2fb7c"
      },
      "execution_count": 8,
      "outputs": [
        {
          "output_type": "execute_result",
          "data": {
            "text/plain": [
              "tensor([[0.0000],\n",
              "        [0.5236],\n",
              "        [1.0472],\n",
              "        [1.5708],\n",
              "        [2.0944],\n",
              "        [2.6180],\n",
              "        [3.1416],\n",
              "        [3.6652],\n",
              "        [4.1888],\n",
              "        [4.7124],\n",
              "        [5.2360],\n",
              "        [5.7596],\n",
              "        [0.0000],\n",
              "        [0.5236],\n",
              "        [1.0472],\n",
              "        [1.5708],\n",
              "        [2.0944],\n",
              "        [2.6180],\n",
              "        [3.1416],\n",
              "        [3.6652],\n",
              "        [4.1888],\n",
              "        [4.7124],\n",
              "        [5.2360],\n",
              "        [5.7596]])"
            ]
          },
          "metadata": {},
          "execution_count": 8
        }
      ]
    },
    {
      "cell_type": "code",
      "source": [
        "euler_angles_2d = torch.vstack([tensor(theta), tensor(phi)]).T\n",
        "euler_angles_2d.repeat(n_repeats,1)\n"
      ],
      "metadata": {
        "colab": {
          "base_uri": "https://localhost:8080/"
        },
        "id": "4yIwS5hyj5o6",
        "outputId": "93050875-3b4d-4e9d-e5ab-5f740cbe1d78"
      },
      "execution_count": 9,
      "outputs": [
        {
          "output_type": "execute_result",
          "data": {
            "text/plain": [
              "tensor([[0.8411, 0.7854],\n",
              "        [0.8411, 2.3562],\n",
              "        [0.8411, 3.9270],\n",
              "        [0.8411, 5.4978],\n",
              "        [1.5708, 0.0000],\n",
              "        [1.5708, 1.5708],\n",
              "        [1.5708, 3.1416],\n",
              "        [1.5708, 4.7124],\n",
              "        [2.3005, 0.7854],\n",
              "        [2.3005, 2.3562],\n",
              "        [2.3005, 3.9270],\n",
              "        [2.3005, 5.4978],\n",
              "        [0.8411, 0.7854],\n",
              "        [0.8411, 2.3562],\n",
              "        [0.8411, 3.9270],\n",
              "        [0.8411, 5.4978],\n",
              "        [1.5708, 0.0000],\n",
              "        [1.5708, 1.5708],\n",
              "        [1.5708, 3.1416],\n",
              "        [1.5708, 4.7124],\n",
              "        [2.3005, 0.7854],\n",
              "        [2.3005, 2.3562],\n",
              "        [2.3005, 3.9270],\n",
              "        [2.3005, 5.4978]], dtype=torch.float64)"
            ]
          },
          "metadata": {},
          "execution_count": 9
        }
      ]
    },
    {
      "cell_type": "code",
      "source": [
        "n_repeats = NPIX\n",
        "euler_angles = torch.hstack([euler_angles_2d.repeat(n_repeats,1), psi.repeat(1,n_repeats).T])"
      ],
      "metadata": {
        "id": "F0nar_aEnCrD"
      },
      "execution_count": 10,
      "outputs": []
    },
    {
      "cell_type": "code",
      "source": [
        "rots = pytorch3d.transforms.euler_angles_to_matrix(euler_angles=euler_angles, convention='ZYZ')\n",
        "rots.shape"
      ],
      "metadata": {
        "colab": {
          "base_uri": "https://localhost:8080/"
        },
        "id": "59qoH8sUjTRF",
        "outputId": "e7d14148-8b3f-4a01-e4d2-5b5a1400d89e"
      },
      "execution_count": 11,
      "outputs": [
        {
          "output_type": "execute_result",
          "data": {
            "text/plain": [
              "torch.Size([144, 3, 3])"
            ]
          },
          "metadata": {},
          "execution_count": 11
        }
      ]
    },
    {
      "cell_type": "code",
      "source": [
        ""
      ],
      "metadata": {
        "id": "NmOf_9wMrIR3"
      },
      "execution_count": 11,
      "outputs": []
    },
    {
      "cell_type": "code",
      "source": [
        "for NSIDE in [2**x for x in range(10)]:\n",
        "  NPIX = hp.nside2npix(NSIDE)\n",
        "  print(NSIDE,NPIX)"
      ],
      "metadata": {
        "colab": {
          "base_uri": "https://localhost:8080/"
        },
        "id": "b1T4S-b3o4W5",
        "outputId": "8a85798f-178f-476e-e105-48840e61ebdf"
      },
      "execution_count": 12,
      "outputs": [
        {
          "output_type": "stream",
          "name": "stdout",
          "text": [
            "1 12\n",
            "2 48\n",
            "4 192\n",
            "8 768\n",
            "16 3072\n",
            "32 12288\n",
            "64 49152\n",
            "128 196608\n",
            "256 786432\n",
            "512 3145728\n"
          ]
        }
      ]
    },
    {
      "cell_type": "markdown",
      "source": [
        "# Benchmarking\n",
        "\n",
        "|NSIDE|NPIX|time|\n",
        "|-|-|-|\n",
        "|1| 12|324 µs|\n",
        "|2| 48|1.13 ms|\n",
        "|4| 192|9.85 ms|\n",
        "|8| 768|188 ms|\n",
        "|16| 3072|3.01 s|"
      ],
      "metadata": {
        "id": "r1F5SkApqPN4"
      }
    },
    {
      "cell_type": "code",
      "source": [
        "%%timeit\n",
        "\n",
        "NSIDE = 1\n",
        "NPIX = hp.nside2npix(NSIDE)\n",
        "theta, phi = hp.pix2ang(nside=NSIDE, ipix=np.arange(NPIX))\n",
        "psi = torch.linspace(0,2*np.pi*(1-1/NPIX) ,steps=NPIX)\n",
        "euler_angles_2d = torch.vstack([tensor(theta), tensor(phi)]).T\n",
        "euler_angles = torch.hstack([euler_angles_2d.repeat(NPIX,1), psi.repeat(1,NPIX).T])\n",
        "rots = pytorch3d.transforms.euler_angles_to_matrix(euler_angles=euler_angles, convention='ZYZ')"
      ],
      "metadata": {
        "colab": {
          "base_uri": "https://localhost:8080/"
        },
        "id": "QbSDrppkqrqM",
        "outputId": "8da29176-a71a-4346-91ba-0ddc8414fff6"
      },
      "execution_count": 13,
      "outputs": [
        {
          "output_type": "stream",
          "name": "stdout",
          "text": [
            "The slowest run took 5.59 times longer than the fastest. This could mean that an intermediate result is being cached.\n",
            "1000 loops, best of 5: 324 µs per loop\n"
          ]
        }
      ]
    },
    {
      "cell_type": "code",
      "source": [
        "%%timeit\n",
        "\n",
        "NSIDE = 2\n",
        "NPIX = hp.nside2npix(NSIDE)\n",
        "theta, phi = hp.pix2ang(nside=NSIDE, ipix=np.arange(NPIX))\n",
        "psi = torch.linspace(0,2*np.pi*(1-1/NPIX) ,steps=NPIX)\n",
        "euler_angles_2d = torch.vstack([tensor(theta), tensor(phi)]).T\n",
        "euler_angles = torch.hstack([euler_angles_2d.repeat(NPIX,1), psi.repeat(1,NPIX).T])\n",
        "rots = pytorch3d.transforms.euler_angles_to_matrix(euler_angles=euler_angles, convention='ZYZ')"
      ],
      "metadata": {
        "colab": {
          "base_uri": "https://localhost:8080/"
        },
        "id": "p9TruW6VoSmv",
        "outputId": "6eb14ce3-4b6c-463a-a8aa-4d043ab475b7"
      },
      "execution_count": 14,
      "outputs": [
        {
          "output_type": "stream",
          "name": "stdout",
          "text": [
            "1000 loops, best of 5: 1.04 ms per loop\n"
          ]
        }
      ]
    },
    {
      "cell_type": "code",
      "source": [
        "%%timeit\n",
        "\n",
        "NSIDE = 4\n",
        "NPIX = hp.nside2npix(NSIDE)\n",
        "theta, phi = hp.pix2ang(nside=NSIDE, ipix=np.arange(NPIX))\n",
        "psi = torch.linspace(0,2*np.pi*(1-1/NPIX) ,steps=NPIX)\n",
        "euler_angles_2d = torch.vstack([tensor(theta), tensor(phi)]).T\n",
        "euler_angles = torch.hstack([euler_angles_2d.repeat(NPIX,1), psi.repeat(1,NPIX).T])\n",
        "rots = pytorch3d.transforms.euler_angles_to_matrix(euler_angles=euler_angles, convention='ZYZ')"
      ],
      "metadata": {
        "colab": {
          "base_uri": "https://localhost:8080/"
        },
        "id": "quf14iYborG3",
        "outputId": "79f5b418-0064-4d62-bf01-d75bcec51a6f"
      },
      "execution_count": 15,
      "outputs": [
        {
          "output_type": "stream",
          "name": "stdout",
          "text": [
            "100 loops, best of 5: 9.36 ms per loop\n"
          ]
        }
      ]
    },
    {
      "cell_type": "code",
      "source": [
        "%%timeit\n",
        "\n",
        "NSIDE = 8\n",
        "NPIX = hp.nside2npix(NSIDE)\n",
        "theta, phi = hp.pix2ang(nside=NSIDE, ipix=np.arange(NPIX))\n",
        "psi = torch.linspace(0,2*np.pi*(1-1/NPIX) ,steps=NPIX)\n",
        "euler_angles_2d = torch.vstack([tensor(theta), tensor(phi)]).T\n",
        "euler_angles = torch.hstack([euler_angles_2d.repeat(NPIX,1), psi.repeat(1,NPIX).T])\n",
        "rots = pytorch3d.transforms.euler_angles_to_matrix(euler_angles=euler_angles, convention='ZYZ')"
      ],
      "metadata": {
        "colab": {
          "base_uri": "https://localhost:8080/"
        },
        "id": "zWiXP6C7qpjJ",
        "outputId": "25dc88d4-b8aa-475e-9a26-580f09645fdd"
      },
      "execution_count": 16,
      "outputs": [
        {
          "output_type": "stream",
          "name": "stdout",
          "text": [
            "1 loop, best of 5: 188 ms per loop\n"
          ]
        }
      ]
    },
    {
      "cell_type": "code",
      "source": [
        "%%timeit\n",
        "\n",
        "NSIDE = 16\n",
        "NPIX = hp.nside2npix(NSIDE)\n",
        "theta, phi = hp.pix2ang(nside=NSIDE, ipix=np.arange(NPIX))\n",
        "psi = torch.linspace(0,2*np.pi*(1-1/NPIX) ,steps=NPIX)\n",
        "euler_angles_2d = torch.vstack([tensor(theta), tensor(phi)]).T\n",
        "euler_angles = torch.hstack([euler_angles_2d.repeat(NPIX,1), psi.repeat(1,NPIX).T])\n",
        "rots = pytorch3d.transforms.euler_angles_to_matrix(euler_angles=euler_angles, convention='ZYZ')"
      ],
      "metadata": {
        "colab": {
          "base_uri": "https://localhost:8080/"
        },
        "id": "RTZB8OuiqUtZ",
        "outputId": "c8ae0736-d8a6-48a1-e700-554342951e68"
      },
      "execution_count": 17,
      "outputs": [
        {
          "output_type": "stream",
          "name": "stdout",
          "text": [
            "1 loop, best of 5: 3.01 s per loop\n"
          ]
        }
      ]
    },
    {
      "cell_type": "markdown",
      "source": [
        "`NSIDE = 32` is too memory intense. Perhaps can precmpute 2D rotation of first two angles, then do vectorized matrix multiplication of last angle with Euler matrix"
      ],
      "metadata": {
        "id": "Q3H0QfCfroci"
      }
    },
    {
      "cell_type": "code",
      "source": [
        "%%time\n",
        "\n",
        "NSIDE = 32\n",
        "NPIX = hp.nside2npix(NSIDE)\n",
        "theta, phi = hp.pix2ang(nside=NSIDE, ipix=np.arange(NPIX))\n",
        "psi = torch.linspace(0,2*np.pi*(1-1/NPIX) ,steps=NPIX)\n",
        "euler_angles_2d = torch.vstack([tensor(theta), tensor(phi)]).T\n",
        "euler_angles = torch.hstack([euler_angles_2d.repeat(NPIX,1), psi.repeat(1,NPIX).T])\n",
        "rots = pytorch3d.transforms.euler_angles_to_matrix(euler_angles=euler_angles, convention='ZYZ')"
      ],
      "metadata": {
        "id": "MBCLrZh-qWlL"
      },
      "execution_count": null,
      "outputs": []
    }
  ]
}