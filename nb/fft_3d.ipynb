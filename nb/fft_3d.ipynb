{
  "nbformat": 4,
  "nbformat_minor": 0,
  "metadata": {
    "colab": {
      "name": "fft_3d.ipynb",
      "provenance": [],
      "collapsed_sections": [],
      "authorship_tag": "ABX9TyNU67oFZaFdHPjtfuKK0bZL",
      "include_colab_link": true
    },
    "kernelspec": {
      "name": "python3",
      "display_name": "Python 3"
    },
    "language_info": {
      "name": "python"
    }
  },
  "cells": [
    {
      "cell_type": "markdown",
      "metadata": {
        "id": "view-in-github",
        "colab_type": "text"
      },
      "source": [
        "<a href=\"https://colab.research.google.com/github/geoffwoollard/learn_cryoem_math/blob/master/nb/fft_3d.ipynb\" target=\"_parent\"><img src=\"https://colab.research.google.com/assets/colab-badge.svg\" alt=\"Open In Colab\"/></a>"
      ]
    },
    {
      "cell_type": "markdown",
      "source": [
        "# Goal: implement fft in 3D like `compSPI.transforms`"
      ],
      "metadata": {
        "id": "woU1UpQZFhum"
      }
    },
    {
      "cell_type": "code",
      "execution_count": 11,
      "metadata": {
        "id": "lGavcb93FeZh"
      },
      "outputs": [],
      "source": [
        "import torch\n",
        "from scipy import signal\n",
        "import matplotlib.pyplot as plt\n",
        "from torch import tensor\n",
        "def doplt(arr2d): \n",
        "  return plt.imshow(arr2d,cmap='gray')"
      ]
    },
    {
      "cell_type": "code",
      "source": [
        "n_pix=64\n",
        "window = tensor(signal.gaussian(n_pix+1, std=5))[:-1]\n",
        "doplt(window.reshape(1,-1))"
      ],
      "metadata": {
        "colab": {
          "base_uri": "https://localhost:8080/",
          "height": 74
        },
        "id": "Mcevi6T3FpHG",
        "outputId": "ca2d3739-db6b-481f-85f2-db7c5e479e6a"
      },
      "execution_count": 98,
      "outputs": [
        {
          "output_type": "execute_result",
          "data": {
            "text/plain": [
              "<matplotlib.image.AxesImage at 0x7f22b872aed0>"
            ]
          },
          "metadata": {},
          "execution_count": 98
        },
        {
          "output_type": "display_data",
          "data": {
            "text/plain": [
              "<Figure size 432x288 with 1 Axes>"
            ],
            "image/png": "[encoded data removed]"
          },
          "metadata": {
            "needs_background": "light"
          }
        }
      ]
    },
    {
      "cell_type": "code",
      "source": [
        "g_2d = window.reshape(1,-1) * window.reshape(-1,1) #torch.outer(window,window) #\n",
        "doplt(g_2d)"
      ],
      "metadata": {
        "colab": {
          "base_uri": "https://localhost:8080/",
          "height": 285
        },
        "id": "O82bhAyUayTH",
        "outputId": "2e0a9455-547b-4fc8-810d-6c33a42406ca"
      },
      "execution_count": 99,
      "outputs": [
        {
          "output_type": "execute_result",
          "data": {
            "text/plain": [
              "<matplotlib.image.AxesImage at 0x7f22b86902d0>"
            ]
          },
          "metadata": {},
          "execution_count": 99
        },
        {
          "output_type": "display_data",
          "data": {
            "text/plain": [
              "<Figure size 432x288 with 1 Axes>"
            ],
            "image/png": "[encoded data removed]"
          },
          "metadata": {
            "needs_background": "light"
          }
        }
      ]
    },
    {
      "cell_type": "code",
      "source": [
        "def primal_to_fourier_2D(r):\n",
        "    \"\"\"Return fourier transform of a batch of image.\n",
        "    Parameters\n",
        "    ----------\n",
        "    r: torch.Tensor\n",
        "        Tensor of size (batch,1, size,size)\n",
        "    Returns\n",
        "    -------\n",
        "    out: torch.Tensor\n",
        "        Tensor of size (batch,1, size,size)\n",
        "    \"\"\"\n",
        "    r = torch.fft.fftshift(r, dim=(-2, -1))\n",
        "    return torch.fft.ifftshift(\n",
        "        torch.fft.fftn(r, s=(r.shape[-2], r.shape[-1]), dim=(-2, -1)), dim=(-2, -1)\n",
        "    )\n",
        "\n",
        "g_2d_f = primal_to_fourier_2D(g_2d)\n",
        "doplt(g_2d_f.real)"
      ],
      "metadata": {
        "colab": {
          "base_uri": "https://localhost:8080/",
          "height": 285
        },
        "id": "aBq83ejcbMsa",
        "outputId": "ecd5bb5a-68c1-4542-d402-1864e07156dc"
      },
      "execution_count": 100,
      "outputs": [
        {
          "output_type": "execute_result",
          "data": {
            "text/plain": [
              "<matplotlib.image.AxesImage at 0x7f22b85fe550>"
            ]
          },
          "metadata": {},
          "execution_count": 100
        },
        {
          "output_type": "display_data",
          "data": {
            "text/plain": [
              "<Figure size 432x288 with 1 Axes>"
            ],
            "image/png": "[encoded data removed]"
          },
          "metadata": {
            "needs_background": "light"
          }
        }
      ]
    },
    {
      "cell_type": "code",
      "source": [
        "#g_3d = g_2d.reshape(n_pix,n_pix,1) * g_2d.reshape(1,n_pix,n_pix)\n",
        "g_3d = window.reshape(-1,1,1) * window.reshape(1,-1,1) * window.reshape(1,1,-1) \n",
        "  # works but just different scale!\n",
        "  # and at tails very close because small different in tails\n",
        "doplt(g_3d[n_pix//2])"
      ],
      "metadata": {
        "colab": {
          "base_uri": "https://localhost:8080/",
          "height": 285
        },
        "id": "YIvP8AlecPX5",
        "outputId": "eb2f782c-431c-4912-8081-ecaee3879696"
      },
      "execution_count": 101,
      "outputs": [
        {
          "output_type": "execute_result",
          "data": {
            "text/plain": [
              "<matplotlib.image.AxesImage at 0x7f22b85f2510>"
            ]
          },
          "metadata": {},
          "execution_count": 101
        },
        {
          "output_type": "display_data",
          "data": {
            "text/plain": [
              "<Figure size 432x288 with 1 Axes>"
            ],
            "image/png": "[encoded data removed]"
          },
          "metadata": {
            "needs_background": "light"
          }
        }
      ]
    },
    {
      "cell_type": "markdown",
      "source": [
        "3D FFT"
      ],
      "metadata": {
        "id": "6axRStChfg1J"
      }
    },
    {
      "cell_type": "code",
      "source": [
        "r = g_3d.reshape(1,1,n_pix,n_pix,n_pix)\n",
        "r_shift = torch.fft.fftshift(r, dim=(-3, -2, -1))\n",
        "\n",
        "f_shift = torch.fft.fftn(r_shift, s=(r.shape[-3], r.shape[-2], r.shape[-1]), dim=(-3, -2, -1))\n",
        "\n",
        "f = torch.fft.ifftshift(f_shift, dim=(-3, -2, -1))\n",
        "\n"
      ],
      "metadata": {
        "id": "KOaYahT3e75t"
      },
      "execution_count": 123,
      "outputs": []
    },
    {
      "cell_type": "code",
      "source": [
        "f.real.abs().sum(), f.imag.abs().sum()"
      ],
      "metadata": {
        "colab": {
          "base_uri": "https://localhost:8080/"
        },
        "id": "4OkOo34FgST1",
        "outputId": "b4da2e8b-97d2-4944-a6fa-6ad0a350f72f"
      },
      "execution_count": 124,
      "outputs": [
        {
          "output_type": "execute_result",
          "data": {
            "text/plain": [
              "(tensor(262144.0004, dtype=torch.float64),\n",
              " tensor(2.2277e-10, dtype=torch.float64))"
            ]
          },
          "metadata": {},
          "execution_count": 124
        }
      ]
    },
    {
      "cell_type": "code",
      "source": [
        "doplt(f.real[0,0,n_pix//2])\n",
        "\n"
      ],
      "metadata": {
        "colab": {
          "base_uri": "https://localhost:8080/",
          "height": 285
        },
        "id": "I_5El_o1gbbg",
        "outputId": "5c730efa-898c-4758-e964-c507d2c8f17d"
      },
      "execution_count": 125,
      "outputs": [
        {
          "output_type": "execute_result",
          "data": {
            "text/plain": [
              "<matplotlib.image.AxesImage at 0x7f22b8b05210>"
            ]
          },
          "metadata": {},
          "execution_count": 125
        },
        {
          "output_type": "display_data",
          "data": {
            "text/plain": [
              "<Figure size 432x288 with 1 Axes>"
            ],
            "image/png": "[encoded data removed]"
          },
          "metadata": {
            "needs_background": "light"
          }
        }
      ]
    },
    {
      "cell_type": "code",
      "source": [
        "doplt(f.real.sum(dim=(0,1,2,3)).reshape(1,-1))"
      ],
      "metadata": {
        "colab": {
          "base_uri": "https://localhost:8080/",
          "height": 74
        },
        "id": "Q86A3L-Ug0rM",
        "outputId": "36c997c9-dcb8-4893-d5a5-13d52d221ed3"
      },
      "execution_count": 126,
      "outputs": [
        {
          "output_type": "execute_result",
          "data": {
            "text/plain": [
              "<matplotlib.image.AxesImage at 0x7f22b828ced0>"
            ]
          },
          "metadata": {},
          "execution_count": 126
        },
        {
          "output_type": "display_data",
          "data": {
            "text/plain": [
              "<Figure size 432x288 with 1 Axes>"
            ],
            "image/png": "[encoded data removed]"
          },
          "metadata": {
            "needs_background": "light"
          }
        }
      ]
    },
    {
      "cell_type": "code",
      "source": [
        "def primal_to_fourier_3D(r):\n",
        "    \"\"\"Return fourier transform of a batch of image.\n",
        "    Parameters\n",
        "    ----------\n",
        "    r: torch.Tensor\n",
        "        Tensor of size (batch, size, size, size)\n",
        "    Returns\n",
        "    -------\n",
        "    out: torch.Tensor\n",
        "        Tensor of size (batch, size, size, size)\n",
        "    \"\"\"\n",
        "    r = torch.fft.fftshift(r, dim=(-3, -2, -1))\n",
        "    return torch.fft.ifftshift(\n",
        "        torch.fft.fftn(r, s=(r.shape[-3], r.shape[-2], r.shape[-1]), dim=(-3, 2, -1)), dim=(-3, -2, -1)\n",
        "    )\n",
        "\n",
        "def fourier_to_primal_3D(f):\n",
        "    \"\"\"Return inverse fourier transform of a batch of image.\n",
        "    Parameters\n",
        "    ----------\n",
        "    f: torch.Tensor\n",
        "        Tensor of size (batch,size,size,size)\n",
        "    Returns\n",
        "    -------\n",
        "    out: torch.Tensor\n",
        "        Tensor of size (batch,size,size,size)\n",
        "    \"\"\"\n",
        "    f = torch.fft.ifftshift(f, dim=(-3, -2, -1))\n",
        "    return torch.fft.fftshift(\n",
        "        torch.fft.ifftn(f, s=(f.shape[-3], f.shape[-2], f.shape[-1]), dim=(-3, -2, -1)), dim=(-3, -2, -1)\n",
        "    )\n",
        "\n"
      ],
      "metadata": {
        "id": "mmnXVHwfhAk5"
      },
      "execution_count": 127,
      "outputs": []
    },
    {
      "cell_type": "code",
      "source": [
        "def test_primal_to_fourier_3D():\n",
        "    \"\"\"Test if the fourier transform is correct.\n",
        "    For this we check if the fourier transform of delta and constant images are\n",
        "    constant and delta, respectively.\n",
        "    \"\"\"\n",
        "    for size in [50]:\n",
        "\n",
        "        im = torch.zeros(2, size, size, size)\n",
        "        im[0, size // 2, size // 2, size // 2] = 1\n",
        "        im[1, :, :, :] = 1\n",
        "\n",
        "        im_fourier = primal_to_fourier_3D(im)\n",
        "\n",
        "        expected_im_fourier = torch.zeros(2, size, size, size)\n",
        "        expected_im_fourier[0] = im[1] * im[0].sum()\n",
        "        expected_im_fourier[1] = im[0] * im[1].sum()\n",
        "\n",
        "        error = (\n",
        "            expected_im_fourier - im_fourier\n",
        "        ).abs().sum() / expected_im_fourier.abs().sum()\n",
        "\n",
        "        assert error < 0.01"
      ],
      "metadata": {
        "id": "ThD4N8pAiAzV"
      },
      "execution_count": 117,
      "outputs": []
    },
    {
      "cell_type": "code",
      "source": [
        "def test_fourier_to_primal_3D():\n",
        "    \"\"\"Test if the inverse fourier transform is correct.\n",
        "    For this we check if the fourier transform of delta and constant images are\n",
        "    constant and delta, respectively.\n",
        "    \"\"\"\n",
        "    for size in [50]:\n",
        "        im_fourier = torch.zeros(2, 1, size, size, size)\n",
        "        im_fourier[0, 0, size // 2, size // 2, size // 2] = 1\n",
        "        im_fourier[1, 0, :, :, :] = 1\n",
        "\n",
        "        im = fourier_to_primal_3D(im_fourier)\n",
        "\n",
        "        expected_im = torch.zeros(2, 1, size, size, size)\n",
        "        expected_im[0] = im_fourier[1] / size**3\n",
        "        expected_im[1] = im_fourier[0]\n",
        "\n",
        "        error = (expected_im - im).abs().sum() / expected_im.abs().sum()\n",
        "        assert error < 0.01\n",
        "\n",
        "test_fourier_to_primal_3D()"
      ],
      "metadata": {
        "id": "opCyXaF_ifeo"
      },
      "execution_count": 131,
      "outputs": []
    }
  ]
}