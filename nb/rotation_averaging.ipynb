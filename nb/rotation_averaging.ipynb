{
  "nbformat": 4,
  "nbformat_minor": 0,
  "metadata": {
    "colab": {
      "name": "rotation_averaging.ipynb",
      "provenance": [],
      "collapsed_sections": [],
      "toc_visible": true,
      "authorship_tag": "ABX9TyML7jTwucaJK+tLxtlpqyBP",
      "include_colab_link": true
    },
    "kernelspec": {
      "name": "python3",
      "display_name": "Python 3"
    },
    "language_info": {
      "name": "python"
    }
  },
  "cells": [
    {
      "cell_type": "markdown",
      "metadata": {
        "id": "view-in-github",
        "colab_type": "text"
      },
      "source": [
        "<a href=\"https://colab.research.google.com/github/geoffwoollard/learn_cryoem_math/blob/master/nb/rotation_averaging.ipynb\" target=\"_parent\"><img src=\"https://colab.research.google.com/assets/colab-badge.svg\" alt=\"Open In Colab\"/></a>"
      ]
    },
    {
      "cell_type": "markdown",
      "source": [
        "# Goal\n",
        "* Build intuition for rotation averaging"
      ],
      "metadata": {
        "id": "uHZRpKpBzlvi"
      }
    },
    {
      "cell_type": "markdown",
      "source": [
        "# Resources\n",
        "* Hartley, R., Trumpf, J., Dai, Y., & Li, H. (2013). Rotation Averaging. International Journal of Computer Vision, 103(3), 267–305. http://doi.org/10.1007/s11263-012-0601-0"
      ],
      "metadata": {
        "id": "VuJNjp6bztch"
      }
    },
    {
      "cell_type": "markdown",
      "source": [
        "#Setup"
      ],
      "metadata": {
        "id": "7GoFfLqrzkoV"
      }
    },
    {
      "cell_type": "code",
      "execution_count": 1,
      "metadata": {
        "colab": {
          "base_uri": "https://localhost:8080/"
        },
        "id": "0KbiLUB6eiP4",
        "outputId": "2b335476-a7ba-440f-c1d8-3ccb5c6489fa"
      },
      "outputs": [
        {
          "output_type": "stream",
          "name": "stdout",
          "text": [
            "Collecting pytorch3d\n",
            "  Downloading pytorch3d-0.3.0-cp37-cp37m-manylinux1_x86_64.whl (30.0 MB)\n",
            "\u001b[K     |████████████████████████████████| 30.0 MB 12.1 MB/s \n",
            "\u001b[?25hCollecting fvcore\n",
            "  Downloading fvcore-0.1.5.post20220212.tar.gz (49 kB)\n",
            "\u001b[K     |████████████████████████████████| 49 kB 6.4 MB/s \n",
            "\u001b[?25hRequirement already satisfied: torchvision>=0.4 in /usr/local/lib/python3.7/dist-packages (from pytorch3d) (0.11.1+cu111)\n",
            "Requirement already satisfied: pillow!=8.3.0,>=5.3.0 in /usr/local/lib/python3.7/dist-packages (from torchvision>=0.4->pytorch3d) (7.1.2)\n",
            "Requirement already satisfied: torch==1.10.0 in /usr/local/lib/python3.7/dist-packages (from torchvision>=0.4->pytorch3d) (1.10.0+cu111)\n",
            "Requirement already satisfied: numpy in /usr/local/lib/python3.7/dist-packages (from torchvision>=0.4->pytorch3d) (1.21.5)\n",
            "Requirement already satisfied: typing-extensions in /usr/local/lib/python3.7/dist-packages (from torch==1.10.0->torchvision>=0.4->pytorch3d) (3.10.0.2)\n",
            "Collecting yacs>=0.1.6\n",
            "  Downloading yacs-0.1.8-py3-none-any.whl (14 kB)\n",
            "Collecting pyyaml>=5.1\n",
            "  Downloading PyYAML-6.0-cp37-cp37m-manylinux_2_5_x86_64.manylinux1_x86_64.manylinux_2_12_x86_64.manylinux2010_x86_64.whl (596 kB)\n",
            "\u001b[K     |████████████████████████████████| 596 kB 61.5 MB/s \n",
            "\u001b[?25hRequirement already satisfied: tqdm in /usr/local/lib/python3.7/dist-packages (from fvcore->pytorch3d) (4.62.3)\n",
            "Requirement already satisfied: termcolor>=1.1 in /usr/local/lib/python3.7/dist-packages (from fvcore->pytorch3d) (1.1.0)\n",
            "Requirement already satisfied: tabulate in /usr/local/lib/python3.7/dist-packages (from fvcore->pytorch3d) (0.8.9)\n",
            "Collecting iopath>=0.1.7\n",
            "  Downloading iopath-0.1.9-py3-none-any.whl (27 kB)\n",
            "Collecting portalocker\n",
            "  Downloading portalocker-2.4.0-py2.py3-none-any.whl (16 kB)\n",
            "Building wheels for collected packages: fvcore\n",
            "  Building wheel for fvcore (setup.py) ... \u001b[?25l\u001b[?25hdone\n",
            "  Created wheel for fvcore: filename=fvcore-0.1.5.post20220212-py3-none-any.whl size=61216 sha256=69dbaaec83a6b6ab18c68959d64fa3e93a186531fea4fdd1bae59d884254fc0f\n",
            "  Stored in directory: /root/.cache/pip/wheels/92/43/75/238d2a5d897274799f92b8938f3cd807a3ccd3c8f37c0a4725\n",
            "Successfully built fvcore\n",
            "Installing collected packages: pyyaml, portalocker, yacs, iopath, fvcore, pytorch3d\n",
            "  Attempting uninstall: pyyaml\n",
            "    Found existing installation: PyYAML 3.13\n",
            "    Uninstalling PyYAML-3.13:\n",
            "      Successfully uninstalled PyYAML-3.13\n",
            "Successfully installed fvcore-0.1.5.post20220212 iopath-0.1.9 portalocker-2.4.0 pytorch3d-0.3.0 pyyaml-6.0 yacs-0.1.8\n"
          ]
        }
      ],
      "source": [
        "!pip install pytorch3d"
      ]
    },
    {
      "cell_type": "code",
      "source": [
        "import torch\n",
        "from torch import tensor, distributions\n",
        "from pytorch3d import transforms"
      ],
      "metadata": {
        "id": "uZ5_pg20e9Qe"
      },
      "execution_count": 6,
      "outputs": []
    },
    {
      "cell_type": "markdown",
      "source": [
        "# Random rotations"
      ],
      "metadata": {
        "id": "qyjkNZHpos0E"
      }
    },
    {
      "cell_type": "code",
      "source": [
        "n_samples = 7\n",
        "quat_rand = distributions.Uniform(tensor(0.).repeat(4*n_samples),tensor(1.).repeat(4*n_samples)).sample().reshape(n_samples,4)\n",
        "quat_uni_rand = quat_rand / quat_rand.norm(dim=1).reshape(n_samples,1)\n",
        "quat_uni_rand"
      ],
      "metadata": {
        "colab": {
          "base_uri": "https://localhost:8080/"
        },
        "id": "pYUF4aI-e6Dg",
        "outputId": "674af925-68b5-4439-af3b-9ed7bb6363b5"
      },
      "execution_count": 36,
      "outputs": [
        {
          "output_type": "execute_result",
          "data": {
            "text/plain": [
              "tensor([[0.0908, 0.5379, 0.0885, 0.8334],\n",
              "        [0.2070, 0.5750, 0.7223, 0.3236],\n",
              "        [0.3976, 0.5882, 0.1856, 0.6793],\n",
              "        [0.3628, 0.0251, 0.9308, 0.0378],\n",
              "        [0.1036, 0.2079, 0.6837, 0.6919],\n",
              "        [0.1626, 0.6206, 0.1824, 0.7451],\n",
              "        [0.6255, 0.4318, 0.4838, 0.4339]])"
            ]
          },
          "metadata": {},
          "execution_count": 36
        }
      ]
    },
    {
      "cell_type": "code",
      "source": [
        "rots = transforms.quaternion_to_matrix(quat_uni_rand)\n",
        "rots.shape"
      ],
      "metadata": {
        "colab": {
          "base_uri": "https://localhost:8080/"
        },
        "id": "yucsdb0RenH_",
        "outputId": "ae3151f8-a0fd-4858-ff65-495fca4668f2"
      },
      "execution_count": 41,
      "outputs": [
        {
          "output_type": "execute_result",
          "data": {
            "text/plain": [
              "torch.Size([7, 3, 3])"
            ]
          },
          "metadata": {},
          "execution_count": 41
        }
      ]
    },
    {
      "cell_type": "markdown",
      "source": [
        "# Distances"
      ],
      "metadata": {
        "id": "X9WS9HCZoquo"
      }
    },
    {
      "cell_type": "markdown",
      "source": [
        "## $\\theta$: anglar / geodesic\n",
        "\n",
        "* https://en.wikipedia.org/wiki/Logarithm_of_a_matrix\n",
        "* https://www.cs.cmu.edu/~cga/dynopt/readings/Rmetric.pdf\n",
        "* https://en.wikipedia.org/wiki/Rodrigues%27_rotation_formula"
      ],
      "metadata": {
        "id": "GJUcVmApkjwk"
      }
    },
    {
      "cell_type": "code",
      "source": [
        "rot_ref = torch.eye(3)\n",
        "q_ref = transforms.matrix_to_quaternion(rot_ref)\n",
        "\n",
        "def comp_d_angle(S,Rs):\n",
        "  SRt = torch.matmul(S.T,Rs)\n",
        "  axis_angle = transforms.rotation_conversions.matrix_to_axis_angle(SRt)\n",
        "  log_SRt = axis_angle\n",
        "  d_angle = log_SRt.norm(p='fro',dim=1)\n",
        "  return d_angle\n",
        "\n",
        "d_angle = comp_d_angle(rot_ref,rots) "
      ],
      "metadata": {
        "id": "BjyIE_U7gmhV"
      },
      "execution_count": 252,
      "outputs": []
    },
    {
      "cell_type": "markdown",
      "source": [
        "$d_{chord}$"
      ],
      "metadata": {
        "id": "jbXFXrfykmie"
      }
    },
    {
      "cell_type": "code",
      "source": [
        "d_chord = (rot_ref - rots).norm(p='fro',dim=(1,2))"
      ],
      "metadata": {
        "id": "9Pu00aw_kfzQ"
      },
      "execution_count": 59,
      "outputs": []
    },
    {
      "cell_type": "markdown",
      "source": [
        "$d^2_{chord} = 2\\sqrt2 \\sin(\\theta/2) \\implies \\theta = 2\\arcsin [d^2_{chord} / (2\\sqrt2)] $"
      ],
      "metadata": {
        "id": "Gq4OP5XflFwg"
      }
    },
    {
      "cell_type": "code",
      "source": [
        "theta = 2*torch.arcsin(d_chord/(2*2**.5))\n",
        "torch.allclose(theta,d_angle)"
      ],
      "metadata": {
        "colab": {
          "base_uri": "https://localhost:8080/"
        },
        "id": "QqmMuburlFWU",
        "outputId": "cdc1fdf1-d93a-438e-9a3d-0c0d7debea3b"
      },
      "execution_count": 253,
      "outputs": [
        {
          "output_type": "execute_result",
          "data": {
            "text/plain": [
              "True"
            ]
          },
          "metadata": {},
          "execution_count": 253
        }
      ]
    },
    {
      "cell_type": "markdown",
      "source": [
        "Agrees with `comp_d_angle`"
      ],
      "metadata": {
        "id": "-vg2a4IsGXR0"
      }
    },
    {
      "cell_type": "markdown",
      "source": [
        "$d_{quat}$"
      ],
      "metadata": {
        "id": "ycDiQiMFnneL"
      }
    },
    {
      "cell_type": "code",
      "source": [
        "d_quat_min = (q_ref - quat_uni_rand).norm(p='fro',dim=1)\n",
        "d_quat_pl = (q_ref + quat_uni_rand).norm(p='fro',dim=1) # ((q_ref - quat_uni_rand[0])**2).sum()**.5\n",
        "\n",
        "d_quat = torch.vstack([d_quat_min,d_quat_pl]).min(dim=0)[0]\n",
        "d_quat"
      ],
      "metadata": {
        "colab": {
          "base_uri": "https://localhost:8080/"
        },
        "id": "Yv9YH7kklD0c",
        "outputId": "31c92fd5-895b-408c-ed73-9d5a0a546af0"
      },
      "execution_count": 225,
      "outputs": [
        {
          "output_type": "execute_result",
          "data": {
            "text/plain": [
              "tensor([1.3485, 1.2594, 1.0976, 1.1289, 1.3390, 1.2941, 0.8655])"
            ]
          },
          "metadata": {},
          "execution_count": 225
        }
      ]
    },
    {
      "cell_type": "markdown",
      "source": [
        "$d_{quat} = 2 \\sin(\\theta/4)$"
      ],
      "metadata": {
        "id": "zobtNtdYn0kF"
      }
    },
    {
      "cell_type": "code",
      "source": [
        "two_sin_theta_4 = 2*torch.sin(theta/4)"
      ],
      "metadata": {
        "id": "I9O5J9qBn7Z2"
      },
      "execution_count": 226,
      "outputs": []
    },
    {
      "cell_type": "code",
      "source": [
        "import pandas as pd\n",
        "\n",
        "df_dist = pd.DataFrame({'two_sin_theta_4':two_sin_theta_4,\n",
        "              'd_quat':d_quat,\n",
        "              'theta':theta,\n",
        "              'd_chord':d_chord,\n",
        "              'd_angle':d_angle\n",
        "})\n",
        "\n"
      ],
      "metadata": {
        "id": "jrxYj0WnoFyH"
      },
      "execution_count": 227,
      "outputs": []
    },
    {
      "cell_type": "code",
      "source": [
        "df_dist.plot(x='two_sin_theta_4',y='d_quat')"
      ],
      "metadata": {
        "colab": {
          "base_uri": "https://localhost:8080/",
          "height": 297
        },
        "id": "AJQNVfYrukbU",
        "outputId": "2c1ea865-8a25-4590-d931-ab1317b74eef"
      },
      "execution_count": 228,
      "outputs": [
        {
          "output_type": "execute_result",
          "data": {
            "text/plain": [
              "<matplotlib.axes._subplots.AxesSubplot at 0x7fe433481dd0>"
            ]
          },
          "metadata": {},
          "execution_count": 228
        },
        {
          "output_type": "display_data",
          "data": {
            "image/png": "[encoded data removed]",
            "text/plain": [
              "<Figure size 432x288 with 1 Axes>"
            ]
          },
          "metadata": {
            "needs_background": "light"
          }
        }
      ]
    },
    {
      "cell_type": "code",
      "source": [
        "df_dist.plot(x='d_angle',y='theta')"
      ],
      "metadata": {
        "colab": {
          "base_uri": "https://localhost:8080/",
          "height": 298
        },
        "id": "5doN0RDmuk6L",
        "outputId": "97ab8349-4cd0-46b0-b25d-5920d7427f00"
      },
      "execution_count": 220,
      "outputs": [
        {
          "output_type": "execute_result",
          "data": {
            "text/plain": [
              "<matplotlib.axes._subplots.AxesSubplot at 0x7fe4334a2410>"
            ]
          },
          "metadata": {},
          "execution_count": 220
        },
        {
          "output_type": "display_data",
          "data": {
            "image/png": "[encoded data removed]",
            "text/plain": [
              "<Figure size 432x288 with 1 Axes>"
            ]
          },
          "metadata": {
            "needs_background": "light"
          }
        }
      ]
    },
    {
      "cell_type": "markdown",
      "source": [
        "# Algorithm 1\n",
        "* 5.3 The Geodesic L2-Mean, Hartley et al\n",
        "* Minimizes the L2 distance of the geodesic angle (ie squared sum of thetas between averaged rotation and each rotation to be averaged)"
      ],
      "metadata": {
        "id": "Mi-cGKhJu4Wi"
      }
    },
    {
      "cell_type": "code",
      "source": [
        "rot_av = rots[0]\n",
        "eps = tensor(0.00001)\n",
        "\n",
        "for _ in range(10):\n",
        "  l2_d_angle = comp_d_angle(rot_av,rots).norm(p='fro')\n",
        "  print('l2_d_angle {:.10f}'.format(l2_d_angle))\n",
        "  RT_ri = torch.matmul(rot_av.T,rots)\n",
        "  log_RT_Ri = transforms.rotation_conversions.matrix_to_axis_angle(RT_ri) \n",
        "\n",
        "  r = log_RT_Ri.mean(dim=0) # shape 3\n",
        "  r_norm = r.norm()\n",
        "  if r_norm < eps:\n",
        "    print('finished')\n",
        "    break\n",
        "  else:\n",
        "    print('not converged',r_norm)\n",
        "    exp_r = transforms.axis_angle_to_matrix(r)\n",
        "    rot_av = torch.matmul(rot_av,exp_r)\n"
      ],
      "metadata": {
        "colab": {
          "base_uri": "https://localhost:8080/"
        },
        "id": "UuEA0H2ivFJ-",
        "outputId": "365f226c-efc0-4ff2-995c-bee35b90e7e7"
      },
      "execution_count": 249,
      "outputs": [
        {
          "output_type": "stream",
          "name": "stdout",
          "text": [
            "l2_d_angle 4.0087013245\n",
            "not converged tensor(1.1078)\n",
            "l2_d_angle 2.6973087788\n",
            "not converged tensor(0.0289)\n",
            "l2_d_angle 2.6961750984\n",
            "not converged tensor(0.0015)\n",
            "l2_d_angle 2.6961719990\n",
            "not converged tensor(0.0001)\n",
            "l2_d_angle 2.6961719990\n",
            "finished\n"
          ]
        }
      ]
    }
  ]
}