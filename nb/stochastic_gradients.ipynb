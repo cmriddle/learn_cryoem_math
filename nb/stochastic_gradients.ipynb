{
  "nbformat": 4,
  "nbformat_minor": 0,
  "metadata": {
    "colab": {
      "name": "stochastic_gradients.ipynb",
      "provenance": [],
      "collapsed_sections": [],
      "authorship_tag": "ABX9TyM92R9ZJZIlxRYs4jIce2QH",
      "include_colab_link": true
    },
    "kernelspec": {
      "name": "python3",
      "display_name": "Python 3"
    },
    "language_info": {
      "name": "python"
    }
  },
  "cells": [
    {
      "cell_type": "markdown",
      "metadata": {
        "id": "view-in-github",
        "colab_type": "text"
      },
      "source": [
        "<a href=\"https://colab.research.google.com/github/geoffwoollard/learn_cryoem_math/blob/master/nb/stochastic_gradients.ipynb\" target=\"_parent\"><img src=\"https://colab.research.google.com/assets/colab-badge.svg\" alt=\"Open In Colab\"/></a>"
      ]
    },
    {
      "cell_type": "markdown",
      "source": [
        "# Motivation\n",
        "\n",
        "Methods such as (Nguyen et al., 2022) take gradients thorugh a more complex image formation model, which involves random sampling of noise. They use methods that reference stochastic computation graphs in (Schulman et al., 2015). \n",
        "\n",
        "Here we work out the five examples in Figure 1 of (Schulman et al 2015) in more detail, in order to demystify and build intuition.\n",
        "\n",
        "Nguyen, N., Liang, F., Engel, D., Bohak, C., Wonka, P., Ropinski, T., & Viola, I. (2022). Differentiable Electron Microscopy Simulation: Methods and Applications for Visualization, (1), 1–22.\n",
        "\n",
        "Schulman, J., Heess, N., Weber, T., & Abbeel, P. (2015). Gradient estimation using stochastic computation graphs. Advances in Neural Information Processing Systems, 2015-Janua, 3528–3536.\n",
        "\n"
      ],
      "metadata": {
        "id": "CcysffGH55bl"
      }
    },
    {
      "cell_type": "markdown",
      "source": [
        "<img src='https://d3i71xaburhd42.cloudfront.net/438bb3d46e72b177ed1c9b7cd2c11a045644a1f4/4-Figure1-1.png'>"
      ],
      "metadata": {
        "id": "dF1VBnqrSvc6"
      }
    },
    {
      "cell_type": "markdown",
      "source": [
        "# Analytic work\n",
        "\n",
        "1. Derive the Objective analytically, by assuming some simple relationship in the linking functions\n",
        "  * Express the expectation as an integral\n",
        "  * Do the integral analytically, to get a function of $\\theta$\n",
        "  * Take the derivative w.r.t. $\\theta$\n",
        "2. Code up Gradient estimator, based on your assumptions of the stochastic distributions and deterministic functions\n",
        "3. Compare 1 and 2.\n",
        "\n",
        "We can also derive an expression for the variance of the gradient estimator i.t.o the analytic parameters in the problem, $\\nabla_\\theta$, where $\\partial_\\theta E_p[f] = E_p[\\nabla_\\theta]$\n",
        "* Take the gradient estimator as a function of analytic parameters (assume stochastic distributions and deterministic functions)\n",
        "* Find \n",
        "$$V_p[\\nabla_\\theta] = E_p[(\\nabla_\\theta - \\hat \\nabla_\\theta)^2]$$, where $\\hat \\nabla_\\theta$ = $E_p[\\nabla_\\theta] = \\partial_\\theta E_p[f]$ can be done analytically."
      ],
      "metadata": {
        "id": "TYa1AyzFTqO-"
      }
    },
    {
      "cell_type": "markdown",
      "source": [
        "# imports"
      ],
      "metadata": {
        "id": "V4HYCxGv53By"
      }
    },
    {
      "cell_type": "code",
      "execution_count": 9,
      "metadata": {
        "id": "n2S8tu7Z1Z1t"
      },
      "outputs": [],
      "source": [
        "import torch\n",
        "from torch import tensor\n",
        "import torch.distributions as dist\n",
        "\n",
        "import pandas as pd"
      ]
    },
    {
      "cell_type": "markdown",
      "source": [
        "# 1\n",
        "$$\n",
        "x = a\\theta \\\\\n",
        "y \\sim N[x,\\sigma] \\\\\n",
        "f = y\n",
        "$$\n",
        "\n",
        "Gradient Estimator\n",
        "$$\\nabla_\\theta = a$$\n",
        "\n",
        "Variance of Gradient Estimator\n",
        "$$V[\\nabla_\\theta] = a^2(\\frac{a^2\\theta^2}{\\sigma^2} + 2)$$\n",
        "\n",
        "Note that the variance of the gradient estimator, i.e. \"variance of the gradient\" during training, is minimized with small $a, \\theta$ and large $\\sigma$."
      ],
      "metadata": {
        "id": "EvhGyiGz5yHZ"
      }
    },
    {
      "cell_type": "code",
      "source": [
        "def pp_1(theta,a,sigma):\n",
        "  x = a*theta\n",
        "  dist_y = dist.Normal(x,sigma)\n",
        "  y = dist_y.sample()\n",
        "  f = y\n",
        "  score = a*(y-a*theta)*y/sigma**2\n",
        "  return f,score\n",
        "\n",
        "theta = tensor(10.)\n",
        "sigma = 10\n",
        "a = 10\n",
        "n_samples = 10000\n",
        "fs = []\n",
        "scores = []\n",
        "for sample in range(n_samples):\n",
        "  f, score = pp_1(theta,a,sigma)\n",
        "  fs.append(f.item())\n",
        "  scores.append(score.item())"
      ],
      "metadata": {
        "id": "H13b8VdG1cDQ"
      },
      "execution_count": 145,
      "outputs": []
    },
    {
      "cell_type": "code",
      "source": [
        "df = pd.DataFrame({'score':scores,\n",
        "              'f':fs})"
      ],
      "metadata": {
        "id": "W3_yw3lM2bBY"
      },
      "execution_count": 142,
      "outputs": []
    },
    {
      "cell_type": "code",
      "source": [
        "analytic_mean=a\n",
        "analytic_std = (a**2/sigma**2*(a**2*theta**2+2*sigma**2))**0.5\n",
        "mean = df['score'].mean()\n",
        "std = df['score'].std()\n",
        "title = 'analytic mean ={:1.1f} \\n mean={:1.1f} \\n\\n analytic std = {:1.2f} \\n std={:1.2f}'.format(analytic_mean,mean,analytic_std,std)\n",
        "df['score'].plot.hist(bins=100, title=title)"
      ],
      "metadata": {
        "colab": {
          "base_uri": "https://localhost:8080/",
          "height": 359
        },
        "id": "DFmUGZsV26jF",
        "outputId": "4e66178c-e2e8-4130-e3e5-581886eb2460"
      },
      "execution_count": 144,
      "outputs": [
        {
          "output_type": "execute_result",
          "data": {
            "text/plain": [
              "<matplotlib.axes._subplots.AxesSubplot at 0x7fccba351350>"
            ]
          },
          "metadata": {},
          "execution_count": 144
        },
        {
          "output_type": "display_data",
          "data": {
            "text/plain": [
              "<Figure size 432x288 with 1 Axes>"
            ],
            "image/png": "[encoded data removed]"
          },
          "metadata": {
            "needs_background": "light"
          }
        }
      ]
    },
    {
      "cell_type": "markdown",
      "source": [
        "# 2\n",
        "$$\n",
        "x \\sim N[\\theta,\\sigma] \\\\\n",
        "y = ax \\\\\n",
        "f=y\n",
        "$$"
      ],
      "metadata": {
        "id": "KKQL-PUk5xGA"
      }
    },
    {
      "cell_type": "code",
      "source": [
        "def pp_2(theta,a,sigma):\n",
        "  dist_x = dist.Normal(theta,sigma)\n",
        "  x = dist_x.sample()\n",
        "  y = a*x\n",
        "  f = y\n",
        "  score = a*x*(x-theta)/sigma**2\n",
        "  return f,score\n",
        "\n",
        "theta = tensor(5.)\n",
        "a = 2\n",
        "sigma = 1\n",
        "n_samples = 10000\n",
        "fs = []\n",
        "scores = []\n",
        "for sample in range(n_samples):\n",
        "  f, score = pp_2(theta,a,sigma)\n",
        "  fs.append(f.item())\n",
        "  scores.append(score.item())"
      ],
      "metadata": {
        "id": "Wr9n8ADD3A7c"
      },
      "execution_count": 64,
      "outputs": []
    },
    {
      "cell_type": "code",
      "source": [
        "df = pd.DataFrame({'score':scores,\n",
        "              'f':fs})\n",
        "\n",
        "analytic=a\n",
        "mean = df['score'].mean()\n",
        "std = df['score'].std()\n",
        "title = 'analytic={:1.1f} \\n mean={:1.1f} \\n std={:1.1f}'.format(analytic,mean,std)\n",
        "df['score'].plot.hist(bins=100, title=title)"
      ],
      "metadata": {
        "colab": {
          "base_uri": "https://localhost:8080/",
          "height": 329
        },
        "id": "BdSnCqLI6qnz",
        "outputId": "43f1d75e-4bf8-4202-a16e-bbc9e928749c"
      },
      "execution_count": 65,
      "outputs": [
        {
          "output_type": "execute_result",
          "data": {
            "text/plain": [
              "<matplotlib.axes._subplots.AxesSubplot at 0x7fccbe0bbe50>"
            ]
          },
          "metadata": {},
          "execution_count": 65
        },
        {
          "output_type": "display_data",
          "data": {
            "text/plain": [
              "<Figure size 432x288 with 1 Axes>"
            ],
            "image/png": "[encoded data removed]"
          },
          "metadata": {
            "needs_background": "light"
          }
        }
      ]
    },
    {
      "cell_type": "markdown",
      "source": [
        "# 3\n",
        "\n",
        "$$\n",
        "x \\sim N[\\theta,\\sigma]\n",
        "y \\sim N[x,\\sigma]]\n",
        "f = y\n",
        "$$"
      ],
      "metadata": {
        "id": "DAml8jz1DWpf"
      }
    },
    {
      "cell_type": "code",
      "source": [
        "def pp_3(theta,sigma):\n",
        "  dist_x = dist.Normal(theta,sigma)\n",
        "  x = dist_x.sample()\n",
        "  dist_y = dist.Normal(x,sigma)\n",
        "  y = dist_y.sample()\n",
        "  f = y\n",
        "  score = y*(x-theta)/sigma**2\n",
        "  return f,score\n",
        "\n",
        "theta = tensor(3.)\n",
        "sigma = 1.\n",
        "n_samples = 10000\n",
        "fs = []\n",
        "scores = []\n",
        "for sample in range(n_samples):\n",
        "  f, score = pp_3(theta,sigma)\n",
        "  fs.append(f.item())\n",
        "  scores.append(score.item())"
      ],
      "metadata": {
        "id": "q0UejydQDXSu"
      },
      "execution_count": 100,
      "outputs": []
    },
    {
      "cell_type": "code",
      "source": [
        "df = pd.DataFrame({'score':scores,\n",
        "              'f':fs})\n",
        "\n",
        "mean = df['score'].mean()\n",
        "std = df['score'].std()\n",
        "analytic = 1\n",
        "title = 'analytic={:1.1f} \\n mean={:1.1f} \\n std={:1.1f}'.format(analytic,mean,std)\n",
        "df['score'].plot.hist(bins=100, title=title)"
      ],
      "metadata": {
        "colab": {
          "base_uri": "https://localhost:8080/",
          "height": 329
        },
        "id": "DQXyOUZ9Dsea",
        "outputId": "c0442a40-853a-4ac3-cf7d-44d3950e7cdb"
      },
      "execution_count": 101,
      "outputs": [
        {
          "output_type": "execute_result",
          "data": {
            "text/plain": [
              "<matplotlib.axes._subplots.AxesSubplot at 0x7fccbc308d50>"
            ]
          },
          "metadata": {},
          "execution_count": 101
        },
        {
          "output_type": "display_data",
          "data": {
            "text/plain": [
              "<Figure size 432x288 with 1 Axes>"
            ],
            "image/png": "[encoded data removed]"
          },
          "metadata": {
            "needs_background": "light"
          }
        }
      ]
    },
    {
      "cell_type": "markdown",
      "source": [
        "# 4\n",
        "\n",
        "$x \\sim N[\\theta,\\sigma]$\n",
        "\n",
        "$y = a\\theta$ # note the order of x and y doensn't matter here\n",
        "\n",
        "$f = y+x$"
      ],
      "metadata": {
        "id": "nR7rv0jZJCxX"
      }
    },
    {
      "cell_type": "code",
      "source": [
        "def pp_4(theta,sigma,a):\n",
        "  dist_x = dist.Normal(theta,sigma)\n",
        "  x = dist_x.sample()\n",
        "  y = a*theta\n",
        "  f = y + x\n",
        "  score = f*(x-theta)/sigma**2 + a\n",
        "  return f,score\n",
        "\n",
        "theta = tensor(3.)\n",
        "sigma = 1.\n",
        "a=1\n",
        "n_samples = 10000\n",
        "fs = []\n",
        "scores = []\n",
        "for sample in range(n_samples):\n",
        "  f, score = pp_4(theta,sigma,a)\n",
        "  fs.append(f.item())\n",
        "  scores.append(score.item())"
      ],
      "metadata": {
        "id": "1k6SeB81JDVy"
      },
      "execution_count": 129,
      "outputs": []
    },
    {
      "cell_type": "code",
      "source": [
        "df = pd.DataFrame({'score':scores,\n",
        "              'f':fs})\n",
        "\n",
        "mean = df['score'].mean()\n",
        "std = df['score'].std()\n",
        "analytic = 1+a\n",
        "title = 'analytic={:1.1f} \\n mean={:1.1f} \\n std={:1.1f}'.format(analytic,mean,std)\n",
        "df['score'].plot.hist(bins=100, title=title)"
      ],
      "metadata": {
        "colab": {
          "base_uri": "https://localhost:8080/",
          "height": 329
        },
        "id": "jum1oE9GDn68",
        "outputId": "bd979001-532f-4793-f8cc-e4fecfd3c5e6"
      },
      "execution_count": 130,
      "outputs": [
        {
          "output_type": "execute_result",
          "data": {
            "text/plain": [
              "<matplotlib.axes._subplots.AxesSubplot at 0x7fccbaea14d0>"
            ]
          },
          "metadata": {},
          "execution_count": 130
        },
        {
          "output_type": "display_data",
          "data": {
            "text/plain": [
              "<Figure size 432x288 with 1 Axes>"
            ],
            "image/png": "[encoded data removed]"
          },
          "metadata": {
            "needs_background": "light"
          }
        }
      ]
    },
    {
      "cell_type": "markdown",
      "source": [
        "# 5\n",
        "\n",
        "$$\n",
        "x_1 \\sim N[\\theta+x_0,\\sigma] \\\\\n",
        "x_2 \\sim N[\\theta+x_1,\\sigma] \\\\\n",
        "f_1 = x_1 \\\\\n",
        "f_2 = x_2\n",
        "$$"
      ],
      "metadata": {
        "id": "Ri9W6RMFRJRi"
      }
    },
    {
      "cell_type": "code",
      "source": [
        "def pp_5(theta,x0,sigma):\n",
        "  dist_x1 = dist.Normal(theta+x0,sigma)\n",
        "  x1 = dist_x1.sample()\n",
        "  dist_x2 = dist.Normal(theta+x1,sigma)\n",
        "  x2 = dist_x2.sample()\n",
        "  f1 = x1\n",
        "  f2 = x2\n",
        "  score = ((x1-(theta+x0))*(f1+f2) + (x2-(theta+x1))*x2)/sigma**2 \n",
        "  return f,score\n",
        "\n",
        "theta = tensor(0.75)\n",
        "sigma = 7.\n",
        "x0=0.5\n",
        "n_samples = 10000\n",
        "fs = []\n",
        "scores = []\n",
        "for sample in range(n_samples):\n",
        "  f, score = pp_5(theta,x0,sigma)\n",
        "  fs.append(f.item())\n",
        "  scores.append(score.item())"
      ],
      "metadata": {
        "id": "nsVWhh12RCdr"
      },
      "execution_count": 126,
      "outputs": []
    },
    {
      "cell_type": "code",
      "source": [
        "df = pd.DataFrame({'score':scores,\n",
        "              'f':fs})\n",
        "\n",
        "mean = df['score'].mean()\n",
        "std = df['score'].std()\n",
        "analytic = 3\n",
        "title = 'analytic={:1.1f} \\n mean={:1.1f} \\n std={:1.1f}'.format(analytic,mean,std)\n",
        "df['score'].plot.hist(bins=100, title=title)"
      ],
      "metadata": {
        "colab": {
          "base_uri": "https://localhost:8080/",
          "height": 329
        },
        "id": "YtIDK95dRE3p",
        "outputId": "3964c3a4-3ea5-4c2e-b1a6-b6e1b32d0a4f"
      },
      "execution_count": 127,
      "outputs": [
        {
          "output_type": "execute_result",
          "data": {
            "text/plain": [
              "<matplotlib.axes._subplots.AxesSubplot at 0x7fccbafff390>"
            ]
          },
          "metadata": {},
          "execution_count": 127
        },
        {
          "output_type": "display_data",
          "data": {
            "text/plain": [
              "<Figure size 432x288 with 1 Axes>"
            ],
            "image/png": "[encoded data removed]"
          },
          "metadata": {
            "needs_background": "light"
          }
        }
      ]
    },
    {
      "cell_type": "markdown",
      "source": [
        "We can also derive an expression for the variance of the gradient estimator i.t.o the analytic parameters in the problem, $\\nabla_\\theta$, where $\\partial_\\theta E_p[f] = E_p[\\nabla_\\theta]$\n",
        "* Take the gradient estimator as a function of analytic parameters (assume stochastic distributions and deterministic functions)\n",
        "* Find \n",
        "$$V_p[\\nabla_\\theta] = E_p[(\\nabla_\\theta - \\hat \\nabla_\\theta)^2]$$, where $\\hat \\nabla_\\theta$ = $E_p[\\nabla_\\theta] = \\partial_\\theta E_p[f]$ can be done analytically.\n",
        "\n",
        "1. $Var[\\nabla_\\theta] = a(\\frac{a^2\\theta^2}{\\sigma^2} + 2)$"
      ],
      "metadata": {
        "id": "Rvr8dOmOVfa7"
      }
    }
  ]
}