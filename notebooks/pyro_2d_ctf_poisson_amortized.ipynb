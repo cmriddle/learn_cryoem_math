{
  "nbformat": 4,
  "nbformat_minor": 0,
  "metadata": {
    "colab": {
      "name": "pyro_2d_ctf_poisson_amortized.ipynb",
      "provenance": [],
      "collapsed_sections": [],
      "toc_visible": true,
      "machine_shape": "hm",
      "authorship_tag": "ABX9TyO3Rds/tlPYpEec63z42bBk",
      "include_colab_link": true
    },
    "kernelspec": {
      "name": "python3",
      "display_name": "Python 3"
    },
    "language_info": {
      "name": "python"
    },
    "accelerator": "GPU"
  },
  "cells": [
    {
      "cell_type": "markdown",
      "metadata": {
        "id": "view-in-github",
        "colab_type": "text"
      },
      "source": [
        "<a href=\"https://colab.research.google.com/github/geoffwoollard/learn_cryoem_math/blob/master/notebooks/pyro_2d_ctf_poisson_amortized.ipynb\" target=\"_parent\"><img src=\"https://colab.research.google.com/assets/colab-badge.svg\" alt=\"Open In Colab\"/></a>"
      ]
    },
    {
      "cell_type": "markdown",
      "source": [
        "# Goal\n",
        "* 2d ctf and shift amortized"
      ],
      "metadata": {
        "id": "dikox4Ey3fD6"
      }
    },
    {
      "cell_type": "markdown",
      "source": [
        "# Setup"
      ],
      "metadata": {
        "id": "MmGFqFH10DL1"
      }
    },
    {
      "cell_type": "code",
      "execution_count": 3,
      "metadata": {
        "colab": {
          "base_uri": "https://localhost:8080/"
        },
        "id": "VBbxS7VZ3dPr",
        "outputId": "c296a37f-3e2a-4d6a-e218-177a6306e084"
      },
      "outputs": [
        {
          "output_type": "stream",
          "name": "stdout",
          "text": [
            "Collecting pyro-ppl\n",
            "  Downloading pyro_ppl-1.8.0-py3-none-any.whl (713 kB)\n",
            "\u001b[?25l\r\u001b[K     |▌                               | 10 kB 25.4 MB/s eta 0:00:01\r\u001b[K     |█                               | 20 kB 20.9 MB/s eta 0:00:01\r\u001b[K     |█▍                              | 30 kB 15.7 MB/s eta 0:00:01\r\u001b[K     |█▉                              | 40 kB 14.1 MB/s eta 0:00:01\r\u001b[K     |██▎                             | 51 kB 5.3 MB/s eta 0:00:01\r\u001b[K     |██▊                             | 61 kB 5.7 MB/s eta 0:00:01\r\u001b[K     |███▏                            | 71 kB 5.2 MB/s eta 0:00:01\r\u001b[K     |███▊                            | 81 kB 5.8 MB/s eta 0:00:01\r\u001b[K     |████▏                           | 92 kB 5.8 MB/s eta 0:00:01\r\u001b[K     |████▋                           | 102 kB 5.1 MB/s eta 0:00:01\r\u001b[K     |█████                           | 112 kB 5.1 MB/s eta 0:00:01\r\u001b[K     |█████▌                          | 122 kB 5.1 MB/s eta 0:00:01\r\u001b[K     |██████                          | 133 kB 5.1 MB/s eta 0:00:01\r\u001b[K     |██████▍                         | 143 kB 5.1 MB/s eta 0:00:01\r\u001b[K     |███████                         | 153 kB 5.1 MB/s eta 0:00:01\r\u001b[K     |███████▍                        | 163 kB 5.1 MB/s eta 0:00:01\r\u001b[K     |███████▉                        | 174 kB 5.1 MB/s eta 0:00:01\r\u001b[K     |████████▎                       | 184 kB 5.1 MB/s eta 0:00:01\r\u001b[K     |████████▊                       | 194 kB 5.1 MB/s eta 0:00:01\r\u001b[K     |█████████▏                      | 204 kB 5.1 MB/s eta 0:00:01\r\u001b[K     |█████████▋                      | 215 kB 5.1 MB/s eta 0:00:01\r\u001b[K     |██████████                      | 225 kB 5.1 MB/s eta 0:00:01\r\u001b[K     |██████████▋                     | 235 kB 5.1 MB/s eta 0:00:01\r\u001b[K     |███████████                     | 245 kB 5.1 MB/s eta 0:00:01\r\u001b[K     |███████████▌                    | 256 kB 5.1 MB/s eta 0:00:01\r\u001b[K     |████████████                    | 266 kB 5.1 MB/s eta 0:00:01\r\u001b[K     |████████████▍                   | 276 kB 5.1 MB/s eta 0:00:01\r\u001b[K     |████████████▉                   | 286 kB 5.1 MB/s eta 0:00:01\r\u001b[K     |█████████████▎                  | 296 kB 5.1 MB/s eta 0:00:01\r\u001b[K     |█████████████▉                  | 307 kB 5.1 MB/s eta 0:00:01\r\u001b[K     |██████████████▎                 | 317 kB 5.1 MB/s eta 0:00:01\r\u001b[K     |██████████████▊                 | 327 kB 5.1 MB/s eta 0:00:01\r\u001b[K     |███████████████▏                | 337 kB 5.1 MB/s eta 0:00:01\r\u001b[K     |███████████████▋                | 348 kB 5.1 MB/s eta 0:00:01\r\u001b[K     |████████████████                | 358 kB 5.1 MB/s eta 0:00:01\r\u001b[K     |████████████████▌               | 368 kB 5.1 MB/s eta 0:00:01\r\u001b[K     |█████████████████               | 378 kB 5.1 MB/s eta 0:00:01\r\u001b[K     |█████████████████▌              | 389 kB 5.1 MB/s eta 0:00:01\r\u001b[K     |██████████████████              | 399 kB 5.1 MB/s eta 0:00:01\r\u001b[K     |██████████████████▍             | 409 kB 5.1 MB/s eta 0:00:01\r\u001b[K     |██████████████████▉             | 419 kB 5.1 MB/s eta 0:00:01\r\u001b[K     |███████████████████▎            | 430 kB 5.1 MB/s eta 0:00:01\r\u001b[K     |███████████████████▊            | 440 kB 5.1 MB/s eta 0:00:01\r\u001b[K     |████████████████████▏           | 450 kB 5.1 MB/s eta 0:00:01\r\u001b[K     |████████████████████▊           | 460 kB 5.1 MB/s eta 0:00:01\r\u001b[K     |█████████████████████▏          | 471 kB 5.1 MB/s eta 0:00:01\r\u001b[K     |█████████████████████▋          | 481 kB 5.1 MB/s eta 0:00:01\r\u001b[K     |██████████████████████          | 491 kB 5.1 MB/s eta 0:00:01\r\u001b[K     |██████████████████████▌         | 501 kB 5.1 MB/s eta 0:00:01\r\u001b[K     |███████████████████████         | 512 kB 5.1 MB/s eta 0:00:01\r\u001b[K     |███████████████████████▍        | 522 kB 5.1 MB/s eta 0:00:01\r\u001b[K     |████████████████████████        | 532 kB 5.1 MB/s eta 0:00:01\r\u001b[K     |████████████████████████▍       | 542 kB 5.1 MB/s eta 0:00:01\r\u001b[K     |████████████████████████▉       | 552 kB 5.1 MB/s eta 0:00:01\r\u001b[K     |█████████████████████████▎      | 563 kB 5.1 MB/s eta 0:00:01\r\u001b[K     |█████████████████████████▊      | 573 kB 5.1 MB/s eta 0:00:01\r\u001b[K     |██████████████████████████▏     | 583 kB 5.1 MB/s eta 0:00:01\r\u001b[K     |██████████████████████████▋     | 593 kB 5.1 MB/s eta 0:00:01\r\u001b[K     |███████████████████████████     | 604 kB 5.1 MB/s eta 0:00:01\r\u001b[K     |███████████████████████████▋    | 614 kB 5.1 MB/s eta 0:00:01\r\u001b[K     |████████████████████████████    | 624 kB 5.1 MB/s eta 0:00:01\r\u001b[K     |████████████████████████████▌   | 634 kB 5.1 MB/s eta 0:00:01\r\u001b[K     |█████████████████████████████   | 645 kB 5.1 MB/s eta 0:00:01\r\u001b[K     |█████████████████████████████▍  | 655 kB 5.1 MB/s eta 0:00:01\r\u001b[K     |█████████████████████████████▉  | 665 kB 5.1 MB/s eta 0:00:01\r\u001b[K     |██████████████████████████████▎ | 675 kB 5.1 MB/s eta 0:00:01\r\u001b[K     |██████████████████████████████▉ | 686 kB 5.1 MB/s eta 0:00:01\r\u001b[K     |███████████████████████████████▎| 696 kB 5.1 MB/s eta 0:00:01\r\u001b[K     |███████████████████████████████▊| 706 kB 5.1 MB/s eta 0:00:01\r\u001b[K     |████████████████████████████████| 713 kB 5.1 MB/s \n",
            "\u001b[?25hRequirement already satisfied: opt-einsum>=2.3.2 in /usr/local/lib/python3.7/dist-packages (from pyro-ppl) (3.3.0)\n",
            "Requirement already satisfied: numpy>=1.7 in /usr/local/lib/python3.7/dist-packages (from pyro-ppl) (1.19.5)\n",
            "Requirement already satisfied: torch>=1.9.0 in /usr/local/lib/python3.7/dist-packages (from pyro-ppl) (1.10.0+cu111)\n",
            "Requirement already satisfied: tqdm>=4.36 in /usr/local/lib/python3.7/dist-packages (from pyro-ppl) (4.62.3)\n",
            "Collecting pyro-api>=0.1.1\n",
            "  Downloading pyro_api-0.1.2-py3-none-any.whl (11 kB)\n",
            "Requirement already satisfied: typing-extensions in /usr/local/lib/python3.7/dist-packages (from torch>=1.9.0->pyro-ppl) (3.10.0.2)\n",
            "Installing collected packages: pyro-api, pyro-ppl\n",
            "Successfully installed pyro-api-0.1.2 pyro-ppl-1.8.0\n"
          ]
        }
      ],
      "source": [
        "! pip3 install pyro-ppl "
      ]
    },
    {
      "cell_type": "code",
      "source": [
        "import pyro\n",
        "import torch\n",
        "import matplotlib.pyplot as plt\n",
        "import pyro.distributions as dist\n",
        "import pandas as pd\n",
        "import numpy as np\n",
        "import torch\n",
        "from torch import tensor, nn\n",
        "from torch.nn import Linear, ReLU, CrossEntropyLoss, Sequential, Conv2d, MaxPool2d, Module, Softmax, BatchNorm2d, Dropout\n",
        "from sklearn.metrics import confusion_matrix\n",
        "\n",
        "def doplt(arr_2d): return plt.imshow(arr_2d.detach().numpy(), cmap='gray')\n",
        "pyro.set_rng_seed(101)\n"
      ],
      "metadata": {
        "id": "VRSZzsTk0eBz"
      },
      "execution_count": 259,
      "outputs": []
    },
    {
      "cell_type": "markdown",
      "source": [
        "# atom blobs"
      ],
      "metadata": {
        "id": "6cui1Zoo0gZG"
      }
    },
    {
      "cell_type": "code",
      "source": [
        "torch.random.manual_seed(2)\n",
        "num_pix=64\n",
        "atom_centers_dist = dist.Uniform(low=-num_pix/3.,high=num_pix/3.)\n",
        "num_atoms = 10\n",
        "n_dim = 2\n",
        "atom_centers_gt = torch.zeros(num_atoms,n_dim)\n",
        "for idx_atoms in range(num_atoms):\n",
        "  for idx_dim in range(n_dim):\n",
        "    atom_centers_gt[idx_atoms,idx_dim] = atom_centers_dist.sample()\n",
        "atom_centers_gt.shape"
      ],
      "metadata": {
        "colab": {
          "base_uri": "https://localhost:8080/"
        },
        "id": "N6_BtcyS0hZB",
        "outputId": "8b9b4a6c-5eb6-4ff4-8f96-c43621f35f61"
      },
      "execution_count": 135,
      "outputs": [
        {
          "output_type": "execute_result",
          "data": {
            "text/plain": [
              "torch.Size([10, 2])"
            ]
          },
          "metadata": {},
          "execution_count": 135
        }
      ]
    },
    {
      "cell_type": "code",
      "source": [
        "def make_coords(num_pix):\n",
        "  assert n_dim == 2\n",
        "  ax = torch.arange(-num_pix//2, num_pix//2)\n",
        "  X = torch.meshgrid(ax, ax, indexing='ij')\n",
        "  coords = torch.zeros(X[0].size().numel(), n_dim)\n",
        "  for di in range(n_dim):\n",
        "    coords[:, di] = X[di].flatten()\n",
        "  return coords\n",
        "\n",
        "coords = make_coords(num_pix)\n",
        "sigma_signal_gt = tensor(3.5)\n",
        "\n",
        "def make_clean_signal_multi_atom(atom_centres,coords,sigma_signal_gt):\n",
        "  clean_signal = torch.zeros(coords.shape[0])\n",
        "  for atom_center in atom_centres:\n",
        "    clean_signal += torch.exp(-((coords-atom_center)**2).sum(-1)/(2*sigma_signal_gt**2))\n",
        "  return clean_signal\n",
        "\n",
        "clean_signal = make_clean_signal_multi_atom(atom_centers_gt,coords,sigma_signal_gt).reshape(num_pix,num_pix)\n",
        "doplt(clean_signal)"
      ],
      "metadata": {
        "colab": {
          "base_uri": "https://localhost:8080/",
          "height": 285
        },
        "id": "u38YgPCo0jOW",
        "outputId": "a93802e5-aaea-456b-8997-c20643a8ba13"
      },
      "execution_count": 136,
      "outputs": [
        {
          "output_type": "execute_result",
          "data": {
            "text/plain": [
              "<matplotlib.image.AxesImage at 0x7fa950990110>"
            ]
          },
          "metadata": {},
          "execution_count": 136
        },
        {
          "output_type": "display_data",
          "data": {
            "image/png": "[encoded data removed]",
            "text/plain": [
              "<Figure size 432x288 with 1 Axes>"
            ]
          },
          "metadata": {
            "needs_background": "light"
          }
        }
      ]
    },
    {
      "cell_type": "markdown",
      "source": [
        "# synthetic shifted data"
      ],
      "metadata": {
        "id": "NaK6R7e30l-s"
      }
    },
    {
      "cell_type": "code",
      "source": [
        "def angle_to_rotation(angle_rad):\n",
        "  c,s = torch.cos(angle_rad), torch.sin(angle_rad)\n",
        "  rotation = torch.tensor([[c,-s],\n",
        "               [s,c]])\n",
        "  return rotation\n",
        "\n",
        "shift_loc_gt = tensor(0.)\n",
        "shift_scale_gt = tensor(10.)\n",
        "gt_dist = dist.Normal(shift_loc_gt,shift_scale_gt)\n",
        "\n",
        "n_particles=1000\n",
        "angle_rad_gt = torch.zeros(n_particles)\n",
        "shift_gt = torch.zeros(2,n_particles)\n",
        "\n",
        "data = torch.zeros(num_pix,num_pix,n_particles)\n",
        "# sigma_noise=3.\n",
        "dose_gt = tensor(0.05)\n",
        "bg_gt = tensor(0.005)\n",
        "\n",
        "# angle_rad_gt = torch.linspace(0,torch.deg2rad(tensor(90)),n_particles)\n",
        "for idx_particle in range(n_particles):\n",
        "  if n_particles < 10 or idx_particle % (n_particles//10) == 0: print('particle {}'.format(idx_particle))\n",
        "  \n",
        "  # dist\n",
        "  # angle_rad = angle_scale_gt*angle_rad_gt_dist.sample() # Bernoulli / 2 state\n",
        "  #shift = shift_diff_gt*gt_dist.sample()\n",
        "  shift_x = gt_dist.sample().item()\n",
        "  shift_y = gt_dist.sample().item()\n",
        "  shift = tensor([shift_x,shift_y]).reshape(1,2)\n",
        "  # angle_rad = angle_rad_gt_dist.sample() # uniform/vonmises\n",
        "  if idx_particle == 0: \n",
        "    #angle_rad *= 0.\n",
        "    shift *= 0.\n",
        "\n",
        "  # rotate\n",
        "  # angle_rad_gt[idx_particle] = angle_rad \n",
        "  \n",
        "  # rotation = angle_to_rotation(angle_rad)\n",
        "  # atom_centers_rot = torch.matmul(rotation,atom_centers_gt.T).T\n",
        "  # clean_signal = make_clean_signal_multi_atom(atom_centers_rot,coords).reshape(num_pix,num_pix)\n",
        "  \n",
        "  # shift\n",
        "  # shift = angle_rad_gt_dist.sample()\n",
        "  shift_gt[:,idx_particle] = shift\n",
        "  atom_centers_shift = atom_centers_gt - shift\n",
        "  clean_signal = make_clean_signal_multi_atom(atom_centers_shift,coords,sigma_signal_gt).reshape(num_pix,num_pix)\n",
        "  \n",
        "  # data[:,:,idx_particle] = dist.Normal(clean_signal, sigma_noise).sample()\n",
        "  data[:,:,idx_particle] = dist.Poisson(dose_gt*clean_signal + bg_gt).sample()"
      ],
      "metadata": {
        "colab": {
          "base_uri": "https://localhost:8080/"
        },
        "id": "-TUlnqGn0laS",
        "outputId": "89e2949c-cae8-4cd4-dd8c-edfe0179d6de"
      },
      "execution_count": 7,
      "outputs": [
        {
          "output_type": "stream",
          "name": "stdout",
          "text": [
            "particle 0\n",
            "particle 100\n",
            "particle 200\n",
            "particle 300\n",
            "particle 400\n",
            "particle 500\n",
            "particle 600\n",
            "particle 700\n",
            "particle 800\n",
            "particle 900\n"
          ]
        }
      ]
    },
    {
      "cell_type": "markdown",
      "source": [
        "|n_particles | clean_signal | dose_gt | bg_gt | snr | results |\n",
        "|-|-|-|-|-|-|\n",
        "|10k|several uiform atoms, 64x64 | 0.05 | 0.05 | 0.03? |fails |\n",
        "|10k|several uiform atoms, 64x64 | 0.05 | 0.001 | 0.027 |works |\n",
        "|10k|several uiform atoms, 64x64 | 0.05 | 0.005 | 0.0253 |works |\n",
        "|10k|several uiform atoms, 64x64 | 0.05 | 0.01 | 0.0176  |fails |\n",
        "|100k|several uiform atoms, 64x64 | 0.05 | 0.01 | 0.0176 |works. shows we can handle more noise if more counting frames |\n",
        "|100k|several uiform atoms, 64x64 | 0.05 | 0.05 | 0.0016 |fails|"
      ],
      "metadata": {
        "id": "cJADZw7-KjLH"
      }
    },
    {
      "cell_type": "code",
      "source": [
        "doplt(data[:,:,:].mean(-1))\n",
        "plt.title('average over all frames')"
      ],
      "metadata": {
        "colab": {
          "base_uri": "https://localhost:8080/",
          "height": 285
        },
        "id": "JnkHN12o0wNz",
        "outputId": "b7de0b3a-f02a-4006-8242-ce05d7b62750"
      },
      "execution_count": 397,
      "outputs": [
        {
          "output_type": "execute_result",
          "data": {
            "text/plain": [
              "<matplotlib.image.AxesImage at 0x7effc4ec5950>"
            ]
          },
          "metadata": {},
          "execution_count": 397
        },
        {
          "output_type": "display_data",
          "data": {
            "image/png": "[encoded data removed]",
            "text/plain": [
              "<Figure size 432x288 with 1 Axes>"
            ]
          },
          "metadata": {
            "needs_background": "light"
          }
        }
      ]
    },
    {
      "cell_type": "code",
      "source": [
        "doplt(data[:,:,:1].mean(-1)) \n",
        "plt.title('one frame')"
      ],
      "metadata": {
        "colab": {
          "base_uri": "https://localhost:8080/",
          "height": 285
        },
        "id": "QSgJ1hrJHkSV",
        "outputId": "d9fafa80-3689-41da-f3cd-1d057c1a0da1"
      },
      "execution_count": 398,
      "outputs": [
        {
          "output_type": "execute_result",
          "data": {
            "text/plain": [
              "<matplotlib.image.AxesImage at 0x7effc5be3cd0>"
            ]
          },
          "metadata": {},
          "execution_count": 398
        },
        {
          "output_type": "display_data",
          "data": {
            "image/png": "[encoded data removed]",
            "text/plain": [
              "<Figure size 432x288 with 1 Axes>"
            ]
          },
          "metadata": {
            "needs_background": "light"
          }
        }
      ]
    },
    {
      "cell_type": "code",
      "source": [
        "pd.Series(data.flatten().detach().numpy()).plot.hist()\n",
        "plt.xlabel('pixel counts')\n",
        "plt.title('sim data Poisson shot noise')"
      ],
      "metadata": {
        "colab": {
          "base_uri": "https://localhost:8080/",
          "height": 312
        },
        "id": "oHn9g33jHoe5",
        "outputId": "66d71b59-886c-46a3-8206-8752788a9426"
      },
      "execution_count": 399,
      "outputs": [
        {
          "output_type": "execute_result",
          "data": {
            "text/plain": [
              "Text(0.5, 1.0, 'sim data Poisson shot noise')"
            ]
          },
          "metadata": {},
          "execution_count": 399
        },
        {
          "output_type": "display_data",
          "data": {
            "image/png": "[encoded data removed]",
            "text/plain": [
              "<Figure size 432x288 with 1 Axes>"
            ]
          },
          "metadata": {
            "needs_background": "light"
          }
        }
      ]
    },
    {
      "cell_type": "code",
      "source": [
        "snr = (dose_gt*clean_signal).var() / data[:,:,0].var()\n",
        "snr"
      ],
      "metadata": {
        "colab": {
          "base_uri": "https://localhost:8080/"
        },
        "id": "ejCoY8qs6dlh",
        "outputId": "65243e19-e0c9-4260-86a5-bf1ba6d6e8e2"
      },
      "execution_count": 383,
      "outputs": [
        {
          "output_type": "execute_result",
          "data": {
            "text/plain": [
              "tensor(0.0016)"
            ]
          },
          "metadata": {},
          "execution_count": 383
        }
      ]
    },
    {
      "cell_type": "markdown",
      "source": [
        "# forward model functions"
      ],
      "metadata": {
        "id": "cn_Yhesd1ALG"
      }
    },
    {
      "cell_type": "code",
      "source": [
        "def make_clean_signal_multi_atom_batch_cuda(atom_centers,coords,sigma_signal_gt):\n",
        "  \"\"\"\n",
        "  returns .shape (num_pix*num.pix,num_particle)\n",
        "  \"\"\"\n",
        "  clean_signal = torch.zeros(coords.shape[0],atom_centers.shape[-1]).cuda()\n",
        "  for atom_center in atom_centers:\n",
        "    clean_signal += torch.exp(-((coords.reshape(-1,2,1)-atom_center.reshape(1,2,-1))**2).sum(1)/(2*sigma_signal_gt**2))\n",
        "  return clean_signal\n"
      ],
      "metadata": {
        "id": "n5LEJjNt1BhU"
      },
      "execution_count": 7,
      "outputs": []
    },
    {
      "cell_type": "code",
      "source": [
        "atom_centers_gt.shape"
      ],
      "metadata": {
        "colab": {
          "base_uri": "https://localhost:8080/"
        },
        "id": "NVtLyVWQT_Mw",
        "outputId": "f75d69b7-d7b1-4e4c-963a-6e221d20529f"
      },
      "execution_count": 49,
      "outputs": [
        {
          "output_type": "execute_result",
          "data": {
            "text/plain": [
              "torch.Size([10, 2])"
            ]
          },
          "metadata": {},
          "execution_count": 49
        }
      ]
    },
    {
      "cell_type": "code",
      "source": [
        "atom_center = atom_centers_gt[0]"
      ],
      "metadata": {
        "id": "oT_3lFnPTdCS"
      },
      "execution_count": 41,
      "outputs": []
    },
    {
      "cell_type": "code",
      "source": [
        "torch.exp(-((coords.reshape(-1,2,1)-atom_center.reshape(1,2,-1))**2).sum(1)/(2*sigma_signal_gt**2)).shape"
      ],
      "metadata": {
        "colab": {
          "base_uri": "https://localhost:8080/"
        },
        "id": "-1ETpi7QTND8",
        "outputId": "24bdbf54-9a09-434d-e390-1df8df0b0da8"
      },
      "execution_count": 42,
      "outputs": [
        {
          "output_type": "execute_result",
          "data": {
            "text/plain": [
              "torch.Size([4096, 1])"
            ]
          },
          "metadata": {},
          "execution_count": 42
        }
      ]
    },
    {
      "cell_type": "code",
      "source": [
        ""
      ],
      "metadata": {
        "colab": {
          "base_uri": "https://localhost:8080/"
        },
        "id": "U_DXBaBPTrvr",
        "outputId": "d947e98b-30c7-494a-8414-7f97c3f6f1df"
      },
      "execution_count": 43,
      "outputs": [
        {
          "output_type": "execute_result",
          "data": {
            "text/plain": [
              "4096"
            ]
          },
          "metadata": {},
          "execution_count": 43
        }
      ]
    },
    {
      "cell_type": "markdown",
      "source": [
        "# NN architectures"
      ],
      "metadata": {
        "id": "fSvLA7vR1EPd"
      }
    },
    {
      "cell_type": "code",
      "source": [
        "class CPN_CNN(Module):   \n",
        "  # https://openaccess.thecvf.com/content/ICCV2021W/LCI/html/Nashed_CryoPoseNet_End-to-End_Simultaneous_Learning_of_Single-Particle_Orientation_and_3D_Map_ICCVW_2021_paper.html\n",
        "    def __init__(self):\n",
        "        super(CPN_CNN, self).__init__()\n",
        "        self.size_out = 3\n",
        "        self.linear_layer_width = 512\n",
        "\n",
        "        self.cnn_layers = Sequential(\n",
        "            # Defining a 2D convolution layer\n",
        "            Conv2d(1, 32, kernel_size=3, stride=1, padding=1),\n",
        "            ReLU(inplace=True),\n",
        "            Conv2d(32, 32, kernel_size=3, stride=1, padding=1),\n",
        "            ReLU(inplace=True),\n",
        "            MaxPool2d(kernel_size=2, stride=2),\n",
        "            Conv2d(32, 64, kernel_size=3, stride=1, padding=1),\n",
        "            ReLU(inplace=True),\n",
        "            Conv2d(64, 64, kernel_size=3, stride=1, padding=1),\n",
        "            ReLU(inplace=True),\n",
        "            MaxPool2d(kernel_size=2, stride=2),\n",
        "            Conv2d(64, 128, kernel_size=3, stride=1, padding=1),\n",
        "            ReLU(inplace=True),\n",
        "            Conv2d(128, 128, kernel_size=3, stride=1, padding=1),\n",
        "            ReLU(inplace=True),\n",
        "            MaxPool2d(kernel_size=2, stride=2),\n",
        "        )\n",
        "        \n",
        "        self.linear_layers = Sequential(\n",
        "            # should match print(\"shape: {}\".format(x.shape[1])) in forward\n",
        "            Linear(8192, self.linear_layer_width),\n",
        "            ReLU(inplace=True),\n",
        "            Linear(self.linear_layer_width, self.linear_layer_width),\n",
        "            ReLU(inplace=True),\n",
        "            Linear(self.linear_layer_width, self.size_out)\n",
        "        )\n",
        "\n",
        "    # Defining the forward pass    \n",
        "    def forward(self, x):\n",
        "        x = self.cnn_layers(x)\n",
        "        x = x.view(x.size(0), -1)\n",
        "        #print(\"shape: {}\".format(x.shape[1]))\n",
        "        x = self.linear_layers(x)\n",
        "        return x\n",
        "net = CPN_CNN()\n",
        "net(torch.zeros(2,1,num_pix,num_pix)).shape\n",
        "# sum(p.numel() for p in cnn.parameters() if p.requires_grad)"
      ],
      "metadata": {
        "colab": {
          "base_uri": "https://localhost:8080/"
        },
        "id": "1TAxX2nM1Fkk",
        "outputId": "b54f70dd-658d-443e-baf5-cdf52aa130eb"
      },
      "execution_count": 245,
      "outputs": [
        {
          "output_type": "execute_result",
          "data": {
            "text/plain": [
              "torch.Size([2, 3])"
            ]
          },
          "metadata": {},
          "execution_count": 245
        }
      ]
    },
    {
      "cell_type": "markdown",
      "source": [
        "# model and guide"
      ],
      "metadata": {
        "id": "w-wWyck14ny3"
      }
    },
    {
      "cell_type": "markdown",
      "source": [
        "## shift, poisson shot noise"
      ],
      "metadata": {
        "id": "ntfw8SGz4ph0"
      }
    },
    {
      "cell_type": "code",
      "source": [
        "net = CPN_CNN().cuda()\n",
        "do_log=False\n",
        "\n",
        "atom_centers_gt_cuda = atom_centers_gt.cuda()\n",
        "coords_cuda = coords.cuda()\n",
        "sigma_signal_gt_cuda = sigma_signal_gt.cuda()\n",
        "\n",
        "shift_loc_gt_cuda = shift_loc_gt.cuda()\n",
        "shift_scale_gt_cuda = shift_scale_gt.cuda()\n",
        "dose_gt_cuda = dose_gt.cuda()\n",
        "bg_gt_cuda = bg_gt.cuda()\n",
        "def model(mini_batch):\n",
        "  \"\"\"\n",
        "  simulates a batch of particles, corresponding to observed 2d rotated particles\n",
        "  no interpolation because analytical form of molecule potential used\n",
        "  \"\"\"\n",
        "  size_mini_batch = mini_batch.shape[-1]\n",
        "  batch_idxs = torch.arange(size_mini_batch)\n",
        "  if do_log: print('model mini_batch.shape',mini_batch.shape)\n",
        "  with pyro.plate('mini_batch',size_mini_batch):\n",
        "\n",
        "    gt_dist_x = dist.Normal(shift_loc_gt_cuda,shift_scale_gt_cuda)\n",
        "    gt_dist_y = dist.Normal(shift_loc_gt_cuda,shift_scale_gt_cuda)\n",
        "    if do_log: print('model gt_dist',gt_dist)\n",
        "\n",
        "    shifts_x = pyro.sample('shift_x',gt_dist_x)\n",
        "    shifts_y = pyro.sample('shift_y',gt_dist_y)\n",
        "\n",
        "    shifts = torch.vstack([shifts_x,shifts_y])\n",
        "    if do_log: print('model shifts.shape',shifts.shape)\n",
        "    if do_log: print('model shifts',shifts)\n",
        "\n",
        "    atom_centres_shift = atom_centers_gt_cuda.reshape(-1,2,1) - shifts.reshape(1,2,-1) # already on device\n",
        "    clean_signal = make_clean_signal_multi_atom_batch_cuda(atom_centres_shift,coords_cuda,sigma_signal_gt_cuda).reshape(num_pix,num_pix,-1)\n",
        "    if do_log: print('model clean_signal.shape',clean_signal.shape)\n",
        "    \n",
        "    with pyro.plate('pixel_x',num_pix, dim=-2):\n",
        "      with pyro.plate('pixel_y',num_pix, dim=-3):\n",
        "        distrib = dist.Poisson(dose_gt_cuda*clean_signal + bg_gt_cuda)\n",
        "        if do_log: print('model particle distribution',distrib)\n",
        "        if do_log: print('model mini_batch.shape',mini_batch.shape)\n",
        "        return pyro.sample(\"shot_noise\", distrib, obs=mini_batch.reshape(num_pix,num_pix,batch_size)) # upon each of these noiseless, projected particles, noise is applied\n",
        "\n",
        "def guide(mini_batch): # the proposal distribution\n",
        "  \"\"\"\n",
        "  neural net will be trained on many particles to predict params of distribution\n",
        "  \"\"\"\n",
        "\n",
        "  pyro.module(\"net\", net)\n",
        "  size_mini_batch = mini_batch.shape[-1]\n",
        "  batch_idxs = torch.arange(size_mini_batch)\n",
        "  mini_batch_swap = torch.swapaxes(mini_batch,0,2)\n",
        "  with pyro.plate('mini_batch', size_mini_batch, dim=-1):\n",
        "    \n",
        "    lam = net(mini_batch_swap.reshape(-1,1,num_pix,num_pix))\n",
        "    if do_log: print('guide lam', lam)\n",
        "    loc_x, loc_y, log_scale = lam[:,0], lam[:,1], lam[:,2]\n",
        "    scale = torch.exp(log_scale)\n",
        "\n",
        "    if do_log: print('loc_x', loc_x)\n",
        "    if do_log: print('scale', scale)\n",
        "\n",
        "    distrib_x = dist.Normal(loc_x, scale) \n",
        "    distrib_y = dist.Normal(loc_y, scale) \n",
        "    if do_log: print('guide distrib',distrib_x)\n",
        "    shift_x = pyro.sample(\"shift_x\", distrib_x)\n",
        "    shift_y = pyro.sample(\"shift_y\", distrib_y)\n",
        "    shift = torch.vstack([shift_x,shift_y])\n",
        "    if do_log: print('guide shift',shift)\n",
        "    return shift\n",
        "\n",
        "pyro.clear_param_store()\n",
        "svi = pyro.infer.SVI(model=model, \n",
        "                     guide=guide, \n",
        "                     optim=pyro.optim.Adam({\"lr\": 1e-5}), \n",
        "                     loss=pyro.infer.Trace_ELBO())\n",
        "\n",
        "losses = []\n",
        "n_epochs = 100\n",
        "batch_size = 10\n",
        "n_particles = 1000\n",
        "epoch_size = n_particles\n",
        "assert epoch_size % batch_size == 0\n",
        "\n",
        "for ep in range(n_epochs):\n",
        "  if n_epochs < 10 or ep % (n_epochs//10) == 0: print('epoch {}'.format(ep))\n",
        "  random_idx = torch.randperm(n_particles) \n",
        "  permutation = data.index_select(-1,random_idx)\n",
        "  for i in range(0,epoch_size,batch_size):\n",
        "    mini_batch = permutation[:,:,i:i+batch_size]\n",
        "    losses.append(svi.step(mini_batch.cuda()))\n"
      ],
      "metadata": {
        "colab": {
          "base_uri": "https://localhost:8080/"
        },
        "id": "FScPayxF1JgV",
        "outputId": "78ed7524-ea25-4479-b15f-7d0131470602"
      },
      "execution_count": 393,
      "outputs": [
        {
          "output_type": "stream",
          "name": "stdout",
          "text": [
            "epoch 0\n",
            "epoch 10\n",
            "epoch 20\n",
            "epoch 30\n",
            "epoch 40\n",
            "epoch 50\n",
            "epoch 60\n",
            "epoch 70\n",
            "epoch 80\n",
            "epoch 90\n"
          ]
        }
      ]
    },
    {
      "cell_type": "code",
      "source": [
        "pd.Series(losses).plot()\n",
        "plt.title('loss')"
      ],
      "metadata": {
        "colab": {
          "base_uri": "https://localhost:8080/",
          "height": 298
        },
        "id": "x-oF-CZF2oPg",
        "outputId": "d3d1e8b9-1b80-4c1d-d25c-839203cc8fe0"
      },
      "execution_count": 394,
      "outputs": [
        {
          "output_type": "execute_result",
          "data": {
            "text/plain": [
              "Text(0.5, 1.0, 'loss')"
            ]
          },
          "metadata": {},
          "execution_count": 394
        },
        {
          "output_type": "display_data",
          "data": {
            "image/png": "[encoded data removed]",
            "text/plain": [
              "<Figure size 432x288 with 1 Axes>"
            ]
          },
          "metadata": {
            "needs_background": "light"
          }
        }
      ]
    },
    {
      "cell_type": "code",
      "source": [
        "amortized_predictions = []\n",
        "n_particles=1000\n",
        "for idx_particle in range(n_particles):\n",
        "  if n_particles < 10 or idx_particle % (n_particles//10) == 0: print('particle {}'.format(idx_particle))\n",
        "  one_particle = data[:,:,idx_particle]\n",
        "  amortized_lam = guide(one_particle.reshape(num_pix,num_pix,1).cuda())[:,0]\n",
        "  amortized_predictions.append(amortized_lam.tolist())\n",
        "amortized_predictions = tensor(amortized_predictions).T"
      ],
      "metadata": {
        "colab": {
          "base_uri": "https://localhost:8080/"
        },
        "id": "-nfgtqHW2qkL",
        "outputId": "f2ebf3b4-45f3-4077-e12d-ad4f632e8aed"
      },
      "execution_count": 395,
      "outputs": [
        {
          "output_type": "stream",
          "name": "stdout",
          "text": [
            "particle 0\n",
            "particle 100\n",
            "particle 200\n",
            "particle 300\n",
            "particle 400\n",
            "particle 500\n",
            "particle 600\n",
            "particle 700\n",
            "particle 800\n",
            "particle 900\n"
          ]
        }
      ]
    },
    {
      "cell_type": "code",
      "source": [
        "pred_gt_df = pd.DataFrame(torch.vstack([amortized_predictions,shift_gt[:,:n_particles]]).detach().numpy().T, columns=['pred_x','pred_y','gt_x','gt_y'])\n",
        "pred_gt_df.plot.scatter(x='gt_x',y='pred_x')\n",
        "pred_gt_df.plot.scatter(x='gt_y',y='pred_y')"
      ],
      "metadata": {
        "colab": {
          "base_uri": "https://localhost:8080/",
          "height": 560
        },
        "id": "q5XSCf-52tG5",
        "outputId": "b45768bb-7b78-433b-9e1a-2c3366a32e60"
      },
      "execution_count": 396,
      "outputs": [
        {
          "output_type": "execute_result",
          "data": {
            "text/plain": [
              "<matplotlib.axes._subplots.AxesSubplot at 0x7effc51daf10>"
            ]
          },
          "metadata": {},
          "execution_count": 396
        },
        {
          "output_type": "display_data",
          "data": {
            "image/png": "[encoded data removed]",
            "text/plain": [
              "<Figure size 432x288 with 1 Axes>"
            ]
          },
          "metadata": {
            "needs_background": "light"
          }
        },
        {
          "output_type": "display_data",
          "data": {
            "image/png": "[encoded data removed]",
            "text/plain": [
              "<Figure size 432x288 with 1 Axes>"
            ]
          },
          "metadata": {
            "needs_background": "light"
          }
        }
      ]
    },
    {
      "cell_type": "code",
      "source": [
        ""
      ],
      "metadata": {
        "id": "fp-pN8N87snP"
      },
      "execution_count": null,
      "outputs": []
    },
    {
      "cell_type": "markdown",
      "source": [
        "# 2d fourier"
      ],
      "metadata": {
        "id": "RIDb0T_o8CT4"
      }
    },
    {
      "cell_type": "code",
      "source": [
        "clean_signal = make_clean_signal_multi_atom(tensor([[0.,0.]]),coords,sigma_signal_gt).reshape(num_pix,num_pix)\n",
        "doplt(clean_signal)"
      ],
      "metadata": {
        "colab": {
          "base_uri": "https://localhost:8080/",
          "height": 285
        },
        "id": "UDPIKZ6X8z7v",
        "outputId": "300032c7-7604-46aa-9b50-b72b625b38c1"
      },
      "execution_count": 156,
      "outputs": [
        {
          "output_type": "execute_result",
          "data": {
            "text/plain": [
              "<matplotlib.image.AxesImage at 0x7effc817bd10>"
            ]
          },
          "metadata": {},
          "execution_count": 156
        },
        {
          "output_type": "display_data",
          "data": {
            "image/png": "[encoded data removed]",
            "text/plain": [
              "<Figure size 432x288 with 1 Axes>"
            ]
          },
          "metadata": {
            "needs_background": "light"
          }
        }
      ]
    },
    {
      "cell_type": "code",
      "source": [
        "def do_fft_2d(arr_2d_r_centered,**kwargs):\n",
        "  arr_r = torch.fft.fftshift(arr_2d_r_centered)\n",
        "  arr_f = torch.fft.fftn(arr_r,**kwargs) \n",
        "  arr_f_centered = torch.fft.ifftshift(arr_f)\n",
        "  return arr_f_centered\n",
        "\n",
        "def do_ifft_2d(arr_2d_f_centered,**kwargs):\n",
        "  arr_f = torch.fft.ifftshift(arr_2d_f_centered)\n",
        "  arr_r = torch.fft.ifftn(arr_f,**kwargs) \n",
        "  arr_r_centered = torch.fft.fftshift(arr_r)\n",
        "  return arr_r_centered\n",
        "\n",
        "# def do_fft_shift(arr_2d_r_centered):\n"
      ],
      "metadata": {
        "id": "ARboijRI8EVQ"
      },
      "execution_count": 85,
      "outputs": []
    },
    {
      "cell_type": "code",
      "source": [
        "doplt(clean_signal[:,:,1].cpu())\n"
      ],
      "metadata": {
        "colab": {
          "base_uri": "https://localhost:8080/",
          "height": 285
        },
        "id": "KSLA_qryVSML",
        "outputId": "74e1369e-8811-4cdd-9481-1c23991c3bf5"
      },
      "execution_count": 71,
      "outputs": [
        {
          "output_type": "execute_result",
          "data": {
            "text/plain": [
              "<matplotlib.image.AxesImage at 0x7fa95176bb10>"
            ]
          },
          "metadata": {},
          "execution_count": 71
        },
        {
          "output_type": "display_data",
          "data": {
            "image/png": "[encoded data removed]",
            "text/plain": [
              "<Figure size 432x288 with 1 Axes>"
            ]
          },
          "metadata": {
            "needs_background": "light"
          }
        }
      ]
    },
    {
      "cell_type": "code",
      "source": [
        "# arr_r = torch.fft.fftshift(clean_signal)\n",
        "# arr_f = torch.fft.ifftn(arr_r,dim=(0,1)) # what dims the data is in\n",
        "# arr_f_centered = torch.fft.ifftshift(arr_f)"
      ],
      "metadata": {
        "id": "44MQnu9rVnEV"
      },
      "execution_count": 81,
      "outputs": []
    },
    {
      "cell_type": "code",
      "source": [
        "# doplt(arr_f_centered.real[:,:,0].cpu())\n",
        "\n",
        "# torch.allclose(arr_f_centered[:,:,0],arr_f_centered[:,:,1])"
      ],
      "metadata": {
        "id": "7DhQn2R_VZKE"
      },
      "execution_count": null,
      "outputs": []
    },
    {
      "cell_type": "code",
      "source": [
        ""
      ],
      "metadata": {
        "id": "VcQj2AC6Wl5W"
      },
      "execution_count": null,
      "outputs": []
    },
    {
      "cell_type": "markdown",
      "source": [
        "# fourier pixel shift"
      ],
      "metadata": {
        "id": "9kYvjPc6JChy"
      }
    },
    {
      "cell_type": "code",
      "source": [
        "arr_f_centered = do_fft_2d(clean_signal)\n",
        "doplt(arr_f_centered.real)\n"
      ],
      "metadata": {
        "colab": {
          "base_uri": "https://localhost:8080/",
          "height": 285
        },
        "id": "L65d8s4q8P8F",
        "outputId": "2173de8e-d4b7-4756-dda4-b5aaf722af8c"
      },
      "execution_count": 210,
      "outputs": [
        {
          "output_type": "execute_result",
          "data": {
            "text/plain": [
              "<matplotlib.image.AxesImage at 0x7effc770b3d0>"
            ]
          },
          "metadata": {},
          "execution_count": 210
        },
        {
          "output_type": "display_data",
          "data": {
            "image/png": "[encoded data removed]",
            "text/plain": [
              "<Figure size 432x288 with 1 Axes>"
            ]
          },
          "metadata": {
            "needs_background": "light"
          }
        }
      ]
    },
    {
      "cell_type": "code",
      "source": [
        "doplt(do_ifft_2d(arr_f_centered).real)"
      ],
      "metadata": {
        "colab": {
          "base_uri": "https://localhost:8080/",
          "height": 285
        },
        "id": "UTbOHbR79Ei3",
        "outputId": "f86f242b-1590-4401-e606-7974f161285c"
      },
      "execution_count": 160,
      "outputs": [
        {
          "output_type": "execute_result",
          "data": {
            "text/plain": [
              "<matplotlib.image.AxesImage at 0x7effc808f250>"
            ]
          },
          "metadata": {},
          "execution_count": 160
        },
        {
          "output_type": "display_data",
          "data": {
            "image/png": "[encoded data removed]",
            "text/plain": [
              "<Figure size 432x288 with 1 Axes>"
            ]
          },
          "metadata": {
            "needs_background": "light"
          }
        }
      ]
    },
    {
      "cell_type": "code",
      "source": [
        "def fourier_shift_2d(arr_r_centered,shift):\n",
        "  arr_f_centered = do_fft_2d(arr_r_centered)\n",
        "  def make_fourier_mod(i_shift, j_shift):\n",
        "    \n",
        "    ax = torch.arange(-num_pix//2, num_pix//2)\n",
        "    i_grid, j_grid = torch.meshgrid(ax, ax, indexing='ij')\n",
        "    phase = -(i_shift * i_grid + j_shift * j_grid) * 2* torch.pi / num_pix \n",
        "    mod = torch.exp(1j*phase)\n",
        "    return mod\n",
        "  i_shift, j_shift = shift\n",
        "  mod = make_fourier_mod(i_shift, j_shift)\n",
        "  arr_r_shifted = do_ifft_2d(arr_f_centered*mod).real\n",
        "  return arr_r_shifted\n",
        "\n",
        "shift = tensor([10.5,10.5])\n",
        "arr_r_shifted = fourier_shift_2d(clean_signal,shift)\n",
        "doplt(arr_r_shifted)"
      ],
      "metadata": {
        "id": "yM1oUuOhBYtQ"
      },
      "execution_count": null,
      "outputs": []
    },
    {
      "cell_type": "markdown",
      "source": [
        "## data and latents --> clean data\n",
        "use custom inversion method to reconstruct from data, using estimated latents"
      ],
      "metadata": {
        "id": "RfkDPgPJ7iMF"
      }
    },
    {
      "cell_type": "code",
      "source": [
        "n_particles=1000\n",
        "data_shifted_ideal = torch.zeros_like(data)\n",
        "data_shifted_reco = torch.zeros_like(data)\n",
        "\n",
        "for idx_particle in range(n_particles):\n",
        "  data_shifted_ideal[:,:,idx_particle] = fourier_shift_2d(data[:,:,idx_particle],shift_gt[:,idx_particle])\n",
        "  data_shifted_reco[:,:,idx_particle] = fourier_shift_2d(data[:,:,idx_particle],amortized_predictions[:,idx_particle])\n",
        "  \n",
        "  "
      ],
      "metadata": {
        "id": "pXnJqK5UCVem"
      },
      "execution_count": 14,
      "outputs": []
    },
    {
      "cell_type": "code",
      "source": [
        "doplt(data_shifted_ideal.mean(-1))"
      ],
      "metadata": {
        "colab": {
          "base_uri": "https://localhost:8080/",
          "height": 285
        },
        "id": "EHMTNcbhGLZ0",
        "outputId": "9b61a7c6-3ef3-4ae7-ee5a-b7044517f729"
      },
      "execution_count": 15,
      "outputs": [
        {
          "output_type": "execute_result",
          "data": {
            "text/plain": [
              "<matplotlib.image.AxesImage at 0x7f09f5bd7250>"
            ]
          },
          "metadata": {},
          "execution_count": 15
        },
        {
          "output_type": "display_data",
          "data": {
            "image/png": "[encoded data removed]",
            "text/plain": [
              "<Figure size 432x288 with 1 Axes>"
            ]
          },
          "metadata": {
            "needs_background": "light"
          }
        }
      ]
    },
    {
      "cell_type": "code",
      "source": [
        "doplt(data_shifted_reco.mean(-1))"
      ],
      "metadata": {
        "colab": {
          "base_uri": "https://localhost:8080/",
          "height": 285
        },
        "id": "Bq1GfNgYG_jy",
        "outputId": "006b9bea-2278-44af-8801-cd7ef17197c7"
      },
      "execution_count": 376,
      "outputs": [
        {
          "output_type": "execute_result",
          "data": {
            "text/plain": [
              "<matplotlib.image.AxesImage at 0x7effc509ca50>"
            ]
          },
          "metadata": {},
          "execution_count": 376
        },
        {
          "output_type": "display_data",
          "data": {
            "image/png": "[encoded data removed]",
            "text/plain": [
              "<Figure size 432x288 with 1 Axes>"
            ]
          },
          "metadata": {
            "needs_background": "light"
          }
        }
      ]
    },
    {
      "cell_type": "code",
      "source": [
        "doplt(data.mean(-1))"
      ],
      "metadata": {
        "colab": {
          "base_uri": "https://localhost:8080/",
          "height": 285
        },
        "id": "xcr-w6KPFISM",
        "outputId": "e20aa4c0-6151-4571-f8a6-e0210e758239"
      },
      "execution_count": 325,
      "outputs": [
        {
          "output_type": "execute_result",
          "data": {
            "text/plain": [
              "<matplotlib.image.AxesImage at 0x7effc5e27110>"
            ]
          },
          "metadata": {},
          "execution_count": 325
        },
        {
          "output_type": "display_data",
          "data": {
            "image/png": "[encoded data removed]",
            "text/plain": [
              "<Figure size 432x288 with 1 Axes>"
            ]
          },
          "metadata": {
            "needs_background": "light"
          }
        }
      ]
    },
    {
      "cell_type": "markdown",
      "source": [
        "We see that we can unblur the data by unshifting it\n",
        "* using low dose \"counting frame\" synthetic data"
      ],
      "metadata": {
        "id": "Bx9MBULYIN5X"
      }
    },
    {
      "cell_type": "markdown",
      "source": [
        "# ctf"
      ],
      "metadata": {
        "id": "CBbI-wnD4wdb"
      }
    },
    {
      "cell_type": "markdown",
      "source": [
        "## `compute_ctf_2d`"
      ],
      "metadata": {
        "id": "1qB85PEiSVQq"
      }
    },
    {
      "cell_type": "code",
      "source": [
        "def make_ctf_clean_signal_batch(clean_signal_f,dfs):\n",
        "  ctfs = torch.sin(dfs.reshape(1,-1)*(k**2).reshape(-1,1))\n",
        "  clean_signal_f_ctf = (clean_signal_f.reshape(-1,1)*ctfs).T\n",
        "  clean_signal_f_ctf = torch.fft.ifftshift(clean_signal_f_ctf, dim=1)\n",
        "  clean_signal_r_ctf = torch.fft.ifftn(clean_signal_f_ctf,dim=1)\n",
        "  clean_signal_r_ctf = torch.fft.fftshift(clean_signal_r_ctf, dim=1).T\n",
        "  return clean_signal_r_ctf"
      ],
      "metadata": {
        "id": "4SzNBqpR8DTY"
      },
      "execution_count": 8,
      "outputs": []
    },
    {
      "cell_type": "code",
      "source": [
        "make_ctf_clean_signal_batch(clean_signal_f,dfs).shape"
      ],
      "metadata": {
        "colab": {
          "base_uri": "https://localhost:8080/",
          "height": 165
        },
        "id": "KpGTSZntR317",
        "outputId": "88addc08-3dd0-402f-afc5-666891c529c1"
      },
      "execution_count": 11,
      "outputs": [
        {
          "output_type": "error",
          "ename": "NameError",
          "evalue": "ignored",
          "traceback": [
            "\u001b[0;31m---------------------------------------------------------------------------\u001b[0m",
            "\u001b[0;31mNameError\u001b[0m                                 Traceback (most recent call last)",
            "\u001b[0;32m<ipython-input-11-5784a8594c7c>\u001b[0m in \u001b[0;36m<module>\u001b[0;34m()\u001b[0m\n\u001b[0;32m----> 1\u001b[0;31m \u001b[0mmake_ctf_clean_signal_batch\u001b[0m\u001b[0;34m(\u001b[0m\u001b[0mclean_signal_f\u001b[0m\u001b[0;34m,\u001b[0m\u001b[0mdfs\u001b[0m\u001b[0;34m)\u001b[0m\u001b[0;34m.\u001b[0m\u001b[0mshape\u001b[0m\u001b[0;34m\u001b[0m\u001b[0;34m\u001b[0m\u001b[0m\n\u001b[0m",
            "\u001b[0;31mNameError\u001b[0m: name 'clean_signal_f' is not defined"
          ]
        }
      ]
    },
    {
      "cell_type": "code",
      "source": [
        "def compute_ctf_2d_batch(defoci):\n",
        "  def ctf_precompute(num_pix):\n",
        "    k = torch.arange(-num_pix//2,num_pix//2)\n",
        "    kx, ky = torch.meshgrid(k, k, indexing='ij')\n",
        "    k = torch.hypot(kx.float(), ky.float()) / num_pix\n",
        "    k2 = k*k\n",
        "    return k2\n",
        "  k2 = ctf_precompute(num_pix)\n",
        "  \n",
        "  ctf_2d = torch.sin(defoci.reshape(1,1,-1)*k2.reshape(num_pix,num_pix,1))\n",
        "  return ctf_2d\n",
        "\n",
        "defoci = tensor([10,20])\n",
        "ctf_2d = compute_ctf_2d(defoci)\n",
        "\n",
        "doplt(ctf_2d[:,:,0])"
      ],
      "metadata": {
        "colab": {
          "base_uri": "https://localhost:8080/",
          "height": 285
        },
        "id": "MguQBG782s9u",
        "outputId": "953ac5e0-ad2f-4372-d0fb-1676de03c06d"
      },
      "execution_count": 232,
      "outputs": [
        {
          "output_type": "execute_result",
          "data": {
            "text/plain": [
              "<matplotlib.image.AxesImage at 0x7fa920a6ae50>"
            ]
          },
          "metadata": {},
          "execution_count": 232
        },
        {
          "output_type": "display_data",
          "data": {
            "image/png": "[encoded data removed]",
            "text/plain": [
              "<Figure size 432x288 with 1 Axes>"
            ]
          },
          "metadata": {
            "needs_background": "light"
          }
        }
      ]
    },
    {
      "cell_type": "code",
      "source": [
        "doplt(ctf_2d[:,:,1])"
      ],
      "metadata": {
        "colab": {
          "base_uri": "https://localhost:8080/",
          "height": 285
        },
        "id": "j54N0VRob2Cl",
        "outputId": "e6edac1e-ea2d-4108-fac2-23a1656f7515"
      },
      "execution_count": 233,
      "outputs": [
        {
          "output_type": "execute_result",
          "data": {
            "text/plain": [
              "<matplotlib.image.AxesImage at 0x7fa9209d0c10>"
            ]
          },
          "metadata": {},
          "execution_count": 233
        },
        {
          "output_type": "display_data",
          "data": {
            "image/png": "[encoded data removed]",
            "text/plain": [
              "<Figure size 432x288 with 1 Axes>"
            ]
          },
          "metadata": {
            "needs_background": "light"
          }
        }
      ]
    },
    {
      "cell_type": "code",
      "source": [
        "atom_centers = atom_centers_gt.reshape(-1,2,1)\n",
        "clean_signal = make_clean_signal_multi_atom_batch_cuda(atom_centers.cuda(),coords.cuda(),sigma_signal_gt.cuda()).reshape(num_pix,num_pix,-1)\n",
        "clean_signal_f = do_fft_2d(clean_signal,dim=(0,1))\n",
        "clean_signal_ctf = do_ifft_2d(clean_signal_f * ctf_2d.cuda(), dim=(0,1))\n",
        "clean_signal_ctf\n",
        "# make batch ctf\n",
        "# batch fft different real space projections\n",
        "# convolute batch ctf\n",
        "# big vectorized reshaped array"
      ],
      "metadata": {
        "id": "EtS5XR1BTw7O"
      },
      "execution_count": null,
      "outputs": []
    },
    {
      "cell_type": "code",
      "source": [
        "doplt(clean_signal_ctf.real[:,:,0].cpu())"
      ],
      "metadata": {
        "colab": {
          "base_uri": "https://localhost:8080/",
          "height": 285
        },
        "id": "FQyzcwOrcOQz",
        "outputId": "817d7d6b-3f23-4648-8db0-d70fd8fb37eb"
      },
      "execution_count": 235,
      "outputs": [
        {
          "output_type": "execute_result",
          "data": {
            "text/plain": [
              "<matplotlib.image.AxesImage at 0x7fa920944250>"
            ]
          },
          "metadata": {},
          "execution_count": 235
        },
        {
          "output_type": "display_data",
          "data": {
            "image/png": "[encoded data removed]",
            "text/plain": [
              "<Figure size 432x288 with 1 Axes>"
            ]
          },
          "metadata": {
            "needs_background": "light"
          }
        }
      ]
    },
    {
      "cell_type": "code",
      "source": [
        "doplt(clean_signal_ctf.real[:,:,1].cpu())"
      ],
      "metadata": {
        "colab": {
          "base_uri": "https://localhost:8080/",
          "height": 285
        },
        "id": "0R5T1DLXbhDn",
        "outputId": "3647a916-74cc-4430-91b1-0b45a678dcbe"
      },
      "execution_count": 157,
      "outputs": [
        {
          "output_type": "execute_result",
          "data": {
            "text/plain": [
              "<matplotlib.image.AxesImage at 0x7fa95042cd50>"
            ]
          },
          "metadata": {},
          "execution_count": 157
        },
        {
          "output_type": "display_data",
          "data": {
            "image/png": "[encoded data removed]",
            "text/plain": [
              "<Figure size 432x288 with 1 Axes>"
            ]
          },
          "metadata": {
            "needs_background": "light"
          }
        }
      ]
    },
    {
      "cell_type": "code",
      "source": [
        "doplt((clean_signal_ctf.real[:,:,0] - clean_signal_ctf.real[:,:,1]).cpu())"
      ],
      "metadata": {
        "colab": {
          "base_uri": "https://localhost:8080/",
          "height": 285
        },
        "id": "060nniIX8U1i",
        "outputId": "a912a357-cc4f-4387-e2c3-07702b16c08b"
      },
      "execution_count": 150,
      "outputs": [
        {
          "output_type": "execute_result",
          "data": {
            "text/plain": [
              "<matplotlib.image.AxesImage at 0x7fa9505eeb90>"
            ]
          },
          "metadata": {},
          "execution_count": 150
        },
        {
          "output_type": "display_data",
          "data": {
            "image/png": "[encoded data removed]",
            "text/plain": [
              "<Figure size 432x288 with 1 Axes>"
            ]
          },
          "metadata": {
            "needs_background": "light"
          }
        }
      ]
    },
    {
      "cell_type": "code",
      "source": [
        "torch.isclose(clean_signal_ctf.real[:,:,0],clean_signal_ctf.real[:,:,1]).float().mean()"
      ],
      "metadata": {
        "colab": {
          "base_uri": "https://localhost:8080/"
        },
        "id": "FnjxUprYbUdH",
        "outputId": "80198c39-2725-4e66-c37e-a8b336c26172"
      },
      "execution_count": 151,
      "outputs": [
        {
          "output_type": "execute_result",
          "data": {
            "text/plain": [
              "tensor(0.0474, device='cuda:0')"
            ]
          },
          "metadata": {},
          "execution_count": 151
        }
      ]
    },
    {
      "cell_type": "code",
      "source": [
        "doplt(clean_signal[:,:,0].cpu())"
      ],
      "metadata": {
        "colab": {
          "base_uri": "https://localhost:8080/",
          "height": 285
        },
        "id": "_FADwpQjSI2Y",
        "outputId": "9e8a6365-6dc6-4d9e-8742-0654632efac4"
      },
      "execution_count": 158,
      "outputs": [
        {
          "output_type": "execute_result",
          "data": {
            "text/plain": [
              "<matplotlib.image.AxesImage at 0x7fa9503a03d0>"
            ]
          },
          "metadata": {},
          "execution_count": 158
        },
        {
          "output_type": "display_data",
          "data": {
            "image/png": "[encoded data removed]",
            "text/plain": [
              "<Figure size 432x288 with 1 Axes>"
            ]
          },
          "metadata": {
            "needs_background": "light"
          }
        }
      ]
    },
    {
      "cell_type": "code",
      "source": [
        "coords.shape"
      ],
      "metadata": {
        "colab": {
          "base_uri": "https://localhost:8080/"
        },
        "id": "RjeKn04PSk5V",
        "outputId": "4971c3a7-08f4-44e1-831c-946966340791"
      },
      "execution_count": 30,
      "outputs": [
        {
          "output_type": "execute_result",
          "data": {
            "text/plain": [
              "torch.Size([4096, 2])"
            ]
          },
          "metadata": {},
          "execution_count": 30
        }
      ]
    },
    {
      "cell_type": "markdown",
      "source": [
        "## simulated data"
      ],
      "metadata": {
        "id": "L5cXKwcTSTRF"
      }
    },
    {
      "cell_type": "code",
      "source": [
        "def angle_to_rotation(angle_rad):\n",
        "  c,s = torch.cos(angle_rad), torch.sin(angle_rad)\n",
        "  rotation = torch.tensor([[c,-s],\n",
        "               [s,c]])\n",
        "  return rotation\n",
        "\n",
        "\n",
        "n_particles=1000\n",
        "\n",
        "df_loc_gt = tensor(100.)\n",
        "df_scale_gt = tensor(30.)\n",
        "gt_dist = dist.Normal(df_loc_gt,df_scale_gt)\n",
        "# df_offset = tensor(10.)\n",
        "df_gt = torch.zeros(n_particles)\n",
        "\n",
        "# gt_dist = dist.Bernoulli(0.5)\n",
        "# df_offset = tensor(100.)\n",
        "\n",
        "data_clean = torch.zeros(num_pix,num_pix,n_particles)\n",
        "# sigma_noise=tensor(0.1).cuda()\n",
        "dose_gt = tensor(100.)\n",
        "bg_gt = tensor(10.)\n",
        "\n",
        "\n",
        "# angle_rad_gt = torch.linspace(0,torch.deg2rad(tensor(90)),n_particles)\n",
        "for idx_particle in range(n_particles):\n",
        "  if n_particles < 10 or idx_particle % (n_particles//10) == 0: print('particle {}'.format(idx_particle))\n",
        "  df = gt_dist.sample()\n",
        "  # if gt_dist.sample():\n",
        "  #   df = 10\n",
        "  # else:\n",
        "  #   df = 300\n",
        "    #df = df_offset*gt_dist.sample() + df_offset\n",
        "  \n",
        "  df_gt[idx_particle] = df \n",
        "\n",
        "  atom_centers = atom_centers_gt.reshape(-1,2,1) # important for getting batch shape to make_clean_signal_multi_atom_batch_cuda\n",
        "  clean_signal = make_clean_signal_multi_atom_batch_cuda(atom_centers.cuda(),coords.cuda(),sigma_signal_gt.cuda()).reshape(num_pix,num_pix,-1)\n",
        "  clean_signal_f = do_fft_2d(clean_signal,dim=(0,1))\n",
        "  ctf_2d = compute_ctf_2d(df + df_offset)\n",
        "  clean_signal_ctf = do_ifft_2d(clean_signal_f * ctf_2d.cuda(), dim=(0,1)).real \n",
        "  data_clean[:,:,idx_particle] = clean_signal_ctf[:,:,0]\n",
        "  #data[:,:,idx_particle] = dist.Normal(clean_signal_ctf, sigma_noise).sample()[:,:,0]\n",
        "\n",
        "global_scale_dose = data_clean.min()\n",
        "data = dist.Poisson(dose_gt*(data_clean-global_scale_dose) + bg_gt).sample()\n"
      ],
      "metadata": {
        "colab": {
          "base_uri": "https://localhost:8080/"
        },
        "id": "dNCFGtQrSOKm",
        "outputId": "a8b46a77-c068-42aa-a3a9-18399d47b24f"
      },
      "execution_count": 445,
      "outputs": [
        {
          "output_type": "stream",
          "name": "stdout",
          "text": [
            "particle 0\n",
            "particle 100\n",
            "particle 200\n",
            "particle 300\n",
            "particle 400\n",
            "particle 500\n",
            "particle 600\n",
            "particle 700\n",
            "particle 800\n",
            "particle 900\n"
          ]
        }
      ]
    },
    {
      "cell_type": "code",
      "source": [
        "doplt(data[:,:,0])"
      ],
      "metadata": {
        "colab": {
          "base_uri": "https://localhost:8080/",
          "height": 285
        },
        "id": "LWCTtjK1eCBd",
        "outputId": "82c30b5a-3bfc-409f-88e9-cf4dc3c2c133"
      },
      "execution_count": 446,
      "outputs": [
        {
          "output_type": "execute_result",
          "data": {
            "text/plain": [
              "<matplotlib.image.AxesImage at 0x7fa8e2c58d50>"
            ]
          },
          "metadata": {},
          "execution_count": 446
        },
        {
          "output_type": "display_data",
          "data": {
            "image/png": "[encoded data removed]",
            "text/plain": [
              "<Figure size 432x288 with 1 Axes>"
            ]
          },
          "metadata": {
            "needs_background": "light"
          }
        }
      ]
    },
    {
      "cell_type": "code",
      "source": [
        "doplt(data[:,:,1])"
      ],
      "metadata": {
        "colab": {
          "base_uri": "https://localhost:8080/",
          "height": 285
        },
        "id": "q3Z45WLrwOGV",
        "outputId": "a9d1f01d-0517-4b46-c76d-858fa651b4f9"
      },
      "execution_count": 440,
      "outputs": [
        {
          "output_type": "execute_result",
          "data": {
            "text/plain": [
              "<matplotlib.image.AxesImage at 0x7fa8e2c84c90>"
            ]
          },
          "metadata": {},
          "execution_count": 440
        },
        {
          "output_type": "display_data",
          "data": {
            "image/png": "[encoded data removed]",
            "text/plain": [
              "<Figure size 432x288 with 1 Axes>"
            ]
          },
          "metadata": {
            "needs_background": "light"
          }
        }
      ]
    },
    {
      "cell_type": "markdown",
      "source": [
        "## NN"
      ],
      "metadata": {
        "id": "OciVYa5zgb8L"
      }
    },
    {
      "cell_type": "code",
      "source": [
        "class CPN_CNN(Module):   \n",
        "  # https://openaccess.thecvf.com/content/ICCV2021W/LCI/html/Nashed_CryoPoseNet_End-to-End_Simultaneous_Learning_of_Single-Particle_Orientation_and_3D_Map_ICCVW_2021_paper.html\n",
        "    def __init__(self):\n",
        "        super(CPN_CNN, self).__init__()\n",
        "        self.size_out = 2\n",
        "        self.linear_layer_width = 512\n",
        "\n",
        "        self.cnn_layers = Sequential(\n",
        "            # Defining a 2D convolution layer\n",
        "            Conv2d(1, 32, kernel_size=3, stride=1, padding=1),\n",
        "            ReLU(inplace=True),\n",
        "            Conv2d(32, 32, kernel_size=3, stride=1, padding=1),\n",
        "            ReLU(inplace=True),\n",
        "            MaxPool2d(kernel_size=2, stride=2),\n",
        "            Conv2d(32, 64, kernel_size=3, stride=1, padding=1),\n",
        "            ReLU(inplace=True),\n",
        "            Conv2d(64, 64, kernel_size=3, stride=1, padding=1),\n",
        "            ReLU(inplace=True),\n",
        "            MaxPool2d(kernel_size=2, stride=2),\n",
        "            Conv2d(64, 128, kernel_size=3, stride=1, padding=1),\n",
        "            ReLU(inplace=True),\n",
        "            Conv2d(128, 128, kernel_size=3, stride=1, padding=1),\n",
        "            ReLU(inplace=True),\n",
        "            MaxPool2d(kernel_size=2, stride=2),\n",
        "        )\n",
        "        \n",
        "        self.linear_layers = Sequential(\n",
        "            # should match print(\"shape: {}\".format(x.shape[1])) in forward\n",
        "            Linear(8192, self.linear_layer_width),\n",
        "            ReLU(inplace=True),\n",
        "            Linear(self.linear_layer_width, self.linear_layer_width),\n",
        "            ReLU(inplace=True),\n",
        "            Linear(self.linear_layer_width, self.size_out),\n",
        "            #nn.Sigmoid()\n",
        "        )\n",
        "\n",
        "    # Defining the forward pass    \n",
        "    def forward(self, x):\n",
        "        x = self.cnn_layers(x)\n",
        "        x = x.view(x.size(0), -1)\n",
        "        #print(\"shape: {}\".format(x.shape[1]))\n",
        "        x = self.linear_layers(x)\n",
        "        return x\n",
        "net = CPN_CNN()\n",
        "net(torch.zeros(2,1,num_pix,num_pix)).shape\n",
        "# sum(p.numel() for p in cnn.parameters() if p.requires_grad)"
      ],
      "metadata": {
        "colab": {
          "base_uri": "https://localhost:8080/"
        },
        "id": "gRUQEY7egdD0",
        "outputId": "01083d4d-2c9b-420b-c67d-afe4c8b0e36f"
      },
      "execution_count": 412,
      "outputs": [
        {
          "output_type": "execute_result",
          "data": {
            "text/plain": [
              "torch.Size([2, 2])"
            ]
          },
          "metadata": {},
          "execution_count": 412
        }
      ]
    },
    {
      "cell_type": "markdown",
      "source": [
        "## model and guide"
      ],
      "metadata": {
        "id": "s7uwGjJhfAkv"
      }
    },
    {
      "cell_type": "code",
      "source": [
        "net = CPN_CNN().cuda()\n",
        "do_log=False\n",
        "\n",
        "atom_centers_cuda = atom_centers_gt.reshape(-1,2,1).cuda()\n",
        "coords_cuda = coords.cuda()\n",
        "sigma_signal_gt_cuda = sigma_signal_gt.cuda()\n",
        "\n",
        "# can precopute this part\n",
        "clean_signal = make_clean_signal_multi_atom_batch_cuda(atom_centers_cuda,coords_cuda,sigma_signal_gt_cuda).reshape(num_pix,num_pix,-1)\n",
        "clean_signal_f = do_fft_2d(clean_signal,dim=(0,1))\n",
        "\n",
        "df_loc_gt_cuda = df_loc_gt.cuda()\n",
        "df_scale_gt_cuda = df_scale_gt.cuda()\n",
        "# df_offset_cuda = tensor(10.).cuda()\n",
        "\n",
        "dose_gt_cuda = dose_gt.cuda()\n",
        "global_scale_dose_cuda = global_scale_dose.cuda()\n",
        "bg_gt_cuda = bg_gt.cuda()\n",
        "\n",
        "def model(mini_batch):\n",
        "  \"\"\"\n",
        "  simulates a batch of particles, corresponding to observed 2d rotated particles\n",
        "  no interpolation because analytical form of molecule potential used\n",
        "  \"\"\"\n",
        "  size_mini_batch = mini_batch.shape[-1]\n",
        "  batch_idxs = torch.arange(size_mini_batch)\n",
        "  if do_log: print('model mini_batch.shape',mini_batch.shape)\n",
        "  with pyro.plate('mini_batch',size_mini_batch):\n",
        "\n",
        "    gt_dist = dist.Normal(df_loc_gt_cuda,df_scale_gt_cuda)\n",
        "    if do_log: print('model gt_dist',gt_dist)\n",
        "    dfs = pyro.sample('df',gt_dist) #+ df_offset\n",
        "\n",
        "    #gt_dist = dist.Bernoulli((torch.ones(size_mini_batch)/2).cuda())\n",
        "    #df = df_offset_cuda*pyro.sample('df_state', gt_dist) + df_offset_cuda\n",
        "\n",
        "    # clean_signal = make_clean_signal_multi_atom_batch_cuda(atom_centers_cuda,coords_cuda,sigma_signal_gt_cuda).reshape(num_pix,num_pix,-1)\n",
        "    # clean_signal_f = do_fft_2d(clean_signal,dim=(0,1))\n",
        "    ctf_2d = compute_ctf_2d(dfs.cpu())\n",
        "    clean_signal_ctf = do_ifft_2d(clean_signal_f * ctf_2d.cuda(), dim=(0,1)).real\n",
        "    #clean_signal_ctf_f = clean_signal_f * ctf_2d.cuda()\n",
        "\n",
        "    if do_log: print('model clean_signal_ctf.shape',clean_signal_ctf.shape)\n",
        "    if do_log: print('model clean_signal_ctf',clean_signal_ctf[0,0,0])\n",
        "    \n",
        "    with pyro.plate('pixel_x',num_pix, dim=-2):\n",
        "      with pyro.plate('pixel_y',num_pix, dim=-3):\n",
        "        #distrib = dist.Normal(clean_signal_ctf, sigma_noise)\n",
        "        if clean_signal_ctf.min() < global_scale_dose_cuda:\n",
        "          safe = clean_signal_ctf.min()\n",
        "        else:\n",
        "          safe = global_scale_dose_cuda\n",
        "        distrib = dist.Poisson(dose_gt_cuda*(clean_signal_ctf-safe) + bg_gt_cuda)\n",
        "        if do_log: print('model particle distribution',distrib)\n",
        "        if do_log: print('model mini_batch.shape',mini_batch.shape)\n",
        "\n",
        "        sim_obs =  pyro.sample(\"shot_noise\", distrib, obs=mini_batch.reshape(num_pix,num_pix,batch_size)) # upon each of these noiseless, projected particles, noise is applied\n",
        "        if do_log: print('model sim_obs',sim_obs[0,0,0])\n",
        "        return sim_obs\n",
        "\n",
        "def guide(mini_batch): # the proposal distribution\n",
        "  \"\"\"\n",
        "  neural net will be trained on many particles to predict params of distribution\n",
        "  \"\"\"\n",
        "\n",
        "  pyro.module(\"net\", net)\n",
        "  size_mini_batch = mini_batch.shape[-1]\n",
        "  batch_idxs = torch.arange(size_mini_batch)\n",
        "  mini_batch_swap = torch.swapaxes(mini_batch,0,2)\n",
        "  with pyro.plate('mini_batch', size_mini_batch, dim=-1):\n",
        "    \n",
        "    lam = net(mini_batch_swap.reshape(-1,1,num_pix,num_pix))\n",
        "    if do_log: print('guide lam', lam)\n",
        "    loc, log_scale = lam[:,0], lam[:,1]\n",
        "    # loc = lam[:,0]\n",
        "    scale = torch.exp(log_scale)\n",
        "    # if do_log: print('loc', loc)\n",
        "    # if do_log: print('scale', scale)\n",
        "\n",
        "    # binary = sigmoid(lam)[:,0]\n",
        "    #binary = lam[:,0]\n",
        "    #if do_log: print('guide binary', binary)\n",
        "\n",
        "    distrib = dist.Normal(loc, scale) \n",
        "    #distrib = dist.Bernoulli(binary)\n",
        "    #    dfs = pyro.sample(\"df_state\", distrib)\n",
        "    if do_log: print('guide distrib',distrib)\n",
        "    dfs = pyro.sample(\"df\", distrib)\n",
        "    if do_log: print('guide dfs',dfs)\n",
        "    return dfs\n",
        "\n",
        "pyro.clear_param_store()\n",
        "svi = pyro.infer.SVI(model=model, \n",
        "                     guide=guide, \n",
        "                     optim=pyro.optim.Adam({\"lr\": 1e-4}), \n",
        "                     loss=pyro.infer.Trace_ELBO())\n",
        "\n",
        "losses = []\n",
        "n_epochs = 10\n",
        "batch_size = 10\n",
        "n_particles = 1000\n",
        "epoch_size = n_particles\n",
        "assert epoch_size % batch_size == 0\n",
        "\n",
        "# data_f = do_fft_2d(data,dim=(0,1))\n",
        "for ep in range(n_epochs):\n",
        "  if n_epochs < 10 or ep % (n_epochs//10) == 0: print('epoch {}'.format(ep))\n",
        "  random_idx = torch.randperm(n_particles) \n",
        "  permutation = data.index_select(-1,random_idx)\n",
        "  for i in range(0,epoch_size,batch_size):\n",
        "    mini_batch = permutation[:,:,i:i+batch_size]\n",
        "    losses.append(svi.step(mini_batch.cuda()))\n"
      ],
      "metadata": {
        "colab": {
          "base_uri": "https://localhost:8080/"
        },
        "id": "qZrEWq6IfBm4",
        "outputId": "bceec477-cb39-49f2-85a9-6d0bc500c2c8"
      },
      "execution_count": 451,
      "outputs": [
        {
          "output_type": "stream",
          "name": "stdout",
          "text": [
            "epoch 0\n",
            "epoch 1\n",
            "epoch 2\n",
            "epoch 3\n",
            "epoch 4\n",
            "epoch 5\n",
            "epoch 6\n",
            "epoch 7\n",
            "epoch 8\n",
            "epoch 9\n"
          ]
        }
      ]
    },
    {
      "cell_type": "code",
      "source": [
        "# for ep in range(n_epochs):\n",
        "#   if n_epochs < 10 or ep % (n_epochs//10) == 0: print('epoch {}'.format(ep))\n",
        "#   random_idx = torch.randperm(n_particles) \n",
        "#   permutation = data.index_select(-1,random_idx)\n",
        "#   for i in range(0,epoch_size,batch_size):\n",
        "#     mini_batch = permutation[:,:,i:i+batch_size]\n",
        "#     losses.append(svi.step(mini_batch.cuda()))"
      ],
      "metadata": {
        "id": "PLdOV1EsiUqf"
      },
      "execution_count": null,
      "outputs": []
    },
    {
      "cell_type": "code",
      "source": [
        "pd.Series(losses[100:]).plot(logy=False)\n",
        "plt.title('loss')"
      ],
      "metadata": {
        "colab": {
          "base_uri": "https://localhost:8080/",
          "height": 298
        },
        "id": "jbtTa6njgzX8",
        "outputId": "bd20bd77-9a01-4d4e-d3a9-a7add387234a"
      },
      "execution_count": 464,
      "outputs": [
        {
          "output_type": "execute_result",
          "data": {
            "text/plain": [
              "Text(0.5, 1.0, 'loss')"
            ]
          },
          "metadata": {},
          "execution_count": 464
        },
        {
          "output_type": "display_data",
          "data": {
            "image/png": "[encoded data removed]",
            "text/plain": [
              "<Figure size 432x288 with 1 Axes>"
            ]
          },
          "metadata": {
            "needs_background": "light"
          }
        }
      ]
    },
    {
      "cell_type": "code",
      "source": [
        "amortized_predictions = []\n",
        "n_particles=1000\n",
        "for idx_particle in range(n_particles):\n",
        "  if n_particles < 10 or idx_particle % (n_particles//10) == 0: print('particle {}'.format(idx_particle))\n",
        "  one_particle = data[:,:,idx_particle]\n",
        "  amortized_lam = guide(one_particle.reshape(num_pix,num_pix,1).cuda()).item()\n",
        "  amortized_predictions.append(amortized_lam)\n",
        "amortized_predictions = tensor(amortized_predictions)"
      ],
      "metadata": {
        "colab": {
          "base_uri": "https://localhost:8080/"
        },
        "outputId": "9f652f8c-f1fe-4f48-d1f1-1ea80db2f776",
        "id": "8a9nEcrxhkcQ"
      },
      "execution_count": 452,
      "outputs": [
        {
          "output_type": "stream",
          "name": "stdout",
          "text": [
            "particle 0\n",
            "particle 100\n",
            "particle 200\n",
            "particle 300\n",
            "particle 400\n",
            "particle 500\n",
            "particle 600\n",
            "particle 700\n",
            "particle 800\n",
            "particle 900\n"
          ]
        }
      ]
    },
    {
      "cell_type": "code",
      "source": [
        "pred_gt_df = pd.DataFrame(torch.vstack([amortized_predictions,df_gt[:n_particles]]).detach().numpy().T, columns=['pred','gt'])\n",
        "pred_gt_df.plot.scatter(x='gt',y='pred')"
      ],
      "metadata": {
        "colab": {
          "base_uri": "https://localhost:8080/",
          "height": 296
        },
        "outputId": "c88ce92d-a855-43f7-c5ec-1e4d5ae9a805",
        "id": "gbx9yoiNhkcS"
      },
      "execution_count": 453,
      "outputs": [
        {
          "output_type": "execute_result",
          "data": {
            "text/plain": [
              "<matplotlib.axes._subplots.AxesSubplot at 0x7fa8e2bb2b90>"
            ]
          },
          "metadata": {},
          "execution_count": 453
        },
        {
          "output_type": "display_data",
          "data": {
            "image/png": "[encoded data removed]",
            "text/plain": [
              "<Figure size 432x288 with 1 Axes>"
            ]
          },
          "metadata": {
            "needs_background": "light"
          }
        }
      ]
    },
    {
      "cell_type": "code",
      "source": [
        "# predictions = amortized_predictions.detach().numpy().astype(bool)\n",
        "# labels = (df_gt[:n_particles]>df_gt.min()).detach().numpy().astype(bool)\n",
        "# confusion_matrix(predictions, labels)"
      ],
      "metadata": {
        "id": "rT3TbSpfpglt"
      },
      "execution_count": null,
      "outputs": []
    },
    {
      "cell_type": "markdown",
      "source": [
        "# shift + ctf\n",
        "* in guide\n",
        "  * predict shift\n",
        "  * modify observe with predicted shift (sampled)\n",
        "  * predict ctf from modified observe\n",
        "  * (once deconvoluted can predict rotation from that image).\n",
        "  * (no reshaping issues since just sample one latent per mini batch observe)"
      ],
      "metadata": {
        "id": "g_O-IiPt8SFO"
      }
    },
    {
      "cell_type": "code",
      "source": [
        ""
      ],
      "metadata": {
        "id": "G7s6HH8Dp7xC"
      },
      "execution_count": null,
      "outputs": []
    }
  ]
}